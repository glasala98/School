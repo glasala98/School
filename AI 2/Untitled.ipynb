{
 "cells": [
  {
   "cell_type": "code",
   "execution_count": 1,
   "metadata": {},
   "outputs": [],
   "source": [
    "import numpy as np\n",
    "import pandas as pd\n",
    "import torch\n",
    "import torch.nn as nn\n",
    "from torch.nn import ReLU\n",
    "from sklearn.decomposition import PCA\n",
    "from sklearn.linear_model import LogisticRegressionCV\n",
    "from sklearn.model_selection import train_test_split\n",
    "from sklearn.metrics import roc_curve, roc_auc_score\n",
    "import sklearn.decomposition as skd\n",
    "from sklearn.preprocessing import StandardScaler\n",
    "# Plotting\n",
    "import matplotlib.pyplot as plt \n",
    "import seaborn as sns\n",
    "import operator\n",
    "from mpl_toolkits.mplot3d import Axes3D\n",
    "import seaborn as sns\n",
    "import sklearn.model_selection\n",
    "import sklearn.linear_model\n",
    "from scipy.stats import t"
   ]
  },
  {
   "cell_type": "code",
   "execution_count": 19,
   "metadata": {},
   "outputs": [
    {
     "name": "stdout",
     "output_type": "stream",
     "text": [
      "       UserName  ScreenName             Location     TweetAt  \\\n",
      "38572     42371       87323         Valencia, CA  11-04-2020   \n",
      "14748     18547       63499                  NaN  22-03-2020   \n",
      "5344       9143       54095            tennessee  18-03-2020   \n",
      "36214     40013       84965  Huntsville, Alabama  09-04-2020   \n",
      "24250     28049       73001                  NaN  26-03-2020   \n",
      "...         ...         ...                  ...         ...   \n",
      "4164       7963       52915       Newcastle nsw   18-03-2020   \n",
      "23527     27326       72278            Hong Kong  26-03-2020   \n",
      "6427      10226       55178                  NaN  19-03-2020   \n",
      "12905     16704       61656  Malahide, Co Dublin  21-03-2020   \n",
      "10550     14349       59301                  NaN  20-03-2020   \n",
      "\n",
      "                                           OriginalTweet           Sentiment  \n",
      "38572  Check out COVID-19's Impact, from the Perspect...             Neutral  \n",
      "14748  How we shop in   all lined up outside the supe...             Neutral  \n",
      "5344   my dad works at a retail store and said almost...            Positive  \n",
      "36214  Scary video shows how a single cough spreads c...            Negative  \n",
      "24250  @realDonaldTrump Come on Trump, tell us whethe...            Positive  \n",
      "...                                                  ...                 ...  \n",
      "4164   @TheTodayShow For goodness sake Australia (adu...            Negative  \n",
      "23527  @RepStefanik @HawleyMO CCP China must be held ...  Extremely Negative  \n",
      "6427   Has anyone else had a letter from #sky tv sayi...            Negative  \n",
      "12905  I wonder can some smart ass work out how much ...  Extremely Negative  \n",
      "10550  @AirCanada gets a lot of bad press, but lookin...  Extremely Positive  \n",
      "\n",
      "[8232 rows x 6 columns]\n",
      "38572               Neutral\n",
      "14748               Neutral\n",
      "5344               Positive\n",
      "36214              Negative\n",
      "24250              Positive\n",
      "                ...        \n",
      "4164               Negative\n",
      "23527    Extremely Negative\n",
      "6427               Negative\n",
      "12905    Extremely Negative\n",
      "10550    Extremely Positive\n",
      "Name: Sentiment, Length: 8232, dtype: object\n"
     ]
    }
   ],
   "source": [
    "train = pd.read_csv('Corona_NLP_train.csv', encoding='latin1')\n",
    "test = pd.read_csv('Corona_NLP_test.csv')\n",
    "\n",
    "#Split into X and Y\n",
    "y = train['Sentiment']\n",
    "\n",
    "# Split it X_train/test, Y_train/test\n",
    "X_train, X_test, y_train, y_test = train_test_split(train, y, test_size=0.2, random_state=1)\n",
    "\n",
    "# Split it X_train/val, Y_train/val\n",
    "X_train, X_val, y_train, y_val = train_test_split(X_train, y_train, test_size=0.25, random_state=1)\n",
    "\n",
    "print(X_val)\n",
    "print(y_val)"
   ]
  },
  {
   "cell_type": "code",
   "execution_count": null,
   "metadata": {},
   "outputs": [],
   "source": []
  }
 ],
 "metadata": {
  "kernelspec": {
   "display_name": "Python 3",
   "language": "python",
   "name": "python3"
  },
  "language_info": {
   "codemirror_mode": {
    "name": "ipython",
    "version": 3
   },
   "file_extension": ".py",
   "mimetype": "text/x-python",
   "name": "python",
   "nbconvert_exporter": "python",
   "pygments_lexer": "ipython3",
   "version": "3.7.6"
  }
 },
 "nbformat": 4,
 "nbformat_minor": 4
}
