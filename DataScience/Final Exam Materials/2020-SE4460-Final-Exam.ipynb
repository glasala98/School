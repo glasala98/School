{
 "cells": [
  {
   "cell_type": "markdown",
   "metadata": {},
   "source": [
    "# Final Exam\n",
    "### YourUserID: 250896733\n",
    "\n",
    "## General\n",
    "The instructions for the final exam are included in the cover page share on OWL. In addion, some basic rules:\n",
    "\n",
    "* You **are allowed** to use any document and source on your computer and look up documents on the internet.\n",
    "* You or **not allowed** to share documents, or communicate in any other way with people about the final during the final. Afterwards, you are not allowed to share the final, or talk about its content, with students who still have to take a make-up final  \n",
    "* Most questions also require a written answer. The answer to these questions should be given in full English sentences.\n",
    "* All Figures should have a x- and y-axis label.\n",
    "* The Final exam needs to be submitted on OWL  before the deadline. If you have accomodation officially approved by student counseling, you may have extra time.  \n",
    "\n",
    "### Additional Guidance\n",
    "\n",
    "If at any point you are asking yourself \"are we supposed to...\", then *write your assumptions clearly in your exam and proceed according to those assumptions.*\n",
    "\n",
    "Good luck!\n",
    "\n"
   ]
  },
  {
   "cell_type": "markdown",
   "metadata": {},
   "source": [
    "\n"
   ]
  },
  {
   "cell_type": "markdown",
   "metadata": {},
   "source": [
    "## Data set \n",
    "World Health Organization has estimated 12 million deaths occur worldwide, every year due to Heart diseases. Half the deaths in the United States and other developed countries are due to cardio vascular diseases. The early prognosis of cardiovascular diseases can aid in making decisions on lifestyle changes in high risk patients and in turn reduce the complications. This research intends to pinpoint the most relevant/risk factors of heart disease as well as predict the overall risk. \n",
    "\n",
    "### Source\n",
    "The dataset (framingham.csv) is publically available on the Kaggle website, and it is from an ongoing cardiovascular study on residents of the town of Framingham, Massachusetts. The classification goal is to predict whether the patient went on to develop coronary heart disease (CHD) in a 10 year period. The dataset provides the patients’ information. It includes over 4,000 records and 15 attributes.\n",
    "\n",
    "### Variables\n",
    "Each attribute is a potential risk factor. There are both demographic, behavioral and medical risk factors.\n",
    "\n",
    "* male: Indicator variable for biological sex (1:male 0:female)\n",
    "* age: Age of the patient in years \n",
    "* education: Education level. Ordinal variable.c\n",
    "* currentSmoker: whether or not the patient is a current smoker (1:yes 0:no)\n",
    "* cigsPerDay: the number of cigarettes that the person smoked on average in one day\n",
    "* BPMeds: whether or not the patient was on blood pressure medication (1:yes 0:no)\n",
    "* prevalentStroke: whether or not the patient had previously had a stroke \n",
    "* prevalentHyp: whether or not the patient was hypertensive\n",
    "* diabetes: whether or not the patient had diabetes\n",
    "* totChol: total cholesterol level\n",
    "* sysBP: systolic blood pressure\n",
    "* diaBP: diastolic blood pressure\n",
    "* BMI: Body Mass Index\n",
    "* heartRate: heart rate (beats per minute)\n",
    "* glucose: glucose level\n",
    "* TenYearCHD: 10 year risk of coronary heart disease (1: developed signs of CHD in 10 year period, 0: did not develop CHD) "
   ]
  },
  {
   "cell_type": "code",
   "execution_count": 1,
   "metadata": {},
   "outputs": [],
   "source": [
    "## perform the necessary imports\n",
    "\n",
    "import matplotlib\n",
    "import matplotlib.pyplot as plt \n",
    "%matplotlib inline\n",
    "import pandas as pd \n",
    "import numpy as np\n",
    "import seaborn as sns\n",
    "from scipy.stats import t\n",
    "#from statsmodels.formula.api import ols\n",
    "\n",
    "from sklearn.model_selection import train_test_split, cross_val_score\n",
    "from sklearn.pipeline import Pipeline\n",
    "from sklearn.linear_model import LinearRegression, Lasso, LogisticRegression\n",
    "from sklearn.preprocessing import PolynomialFeatures, StandardScaler\n",
    "from sklearn.dummy import DummyRegressor\n",
    "from sklearn.metrics import make_scorer, mean_absolute_error, f1_score, log_loss\n",
    "from sklearn import linear_model\n",
    "from sklearn.metrics import confusion_matrix, roc_curve, precision_recall_curve, auc\n",
    "import torch\n",
    "from torch import nn \n",
    "import torch.nn.functional as functional\n",
    "import matplotlib.pyplot as plt \n",
    "\n",
    "\n"
   ]
  },
  {
   "cell_type": "markdown",
   "metadata": {},
   "source": [
    "## Task 1: Logistic regression (29pts)\n",
    "### Question 1 (2pt)\n",
    "Load the Data set framingham.csv *discarding all rows in the data frame that include any NaNs*. \n",
    "\n",
    "Split the data into equals-sized training and test sets (using a random_state = 0). \n",
    "\n",
    "How many observations do you have in your training set?"
   ]
  },
  {
   "cell_type": "code",
   "execution_count": 2,
   "metadata": {},
   "outputs": [
    {
     "name": "stdout",
     "output_type": "stream",
     "text": [
      "27420 27420\n",
      "Index(['male', 'age', 'education', 'currentSmoker', 'cigsPerDay', 'BPMeds',\n",
      "       'prevalentStroke', 'prevalentHyp', 'diabetes', 'totChol', 'sysBP',\n",
      "       'diaBP', 'BMI', 'heartRate', 'glucose', 'TenYearCHD'],\n",
      "      dtype='object')\n",
      "The train set has  27420  observations\n"
     ]
    }
   ],
   "source": [
    "data = pd.read_csv('framingham.csv')\n",
    "\n",
    "data = data.dropna()\n",
    "data.head()\n",
    "\n",
    "data2 = data\n",
    "X = data.drop('TenYearCHD', axis = 'columns').values\n",
    "Features = data.drop('TenYearCHD', axis = 'columns')\n",
    "y = data.TenYearCHD.values\n",
    "\n",
    "Xtrain, Xtest, ytrain, ytest = train_test_split(X,\n",
    "                                                y, \n",
    "                                                test_size = 0.5,\n",
    "                                                random_state = 0)\n",
    "\n",
    "print(Xtrain.size, Xtest.size)\n",
    "print(data.columns)\n",
    "\n",
    "print(\"The train set has \", Xtrain.size, \" observations\" )\n"
   ]
  },
  {
   "cell_type": "markdown",
   "metadata": {},
   "source": [
    "### Question 2  (6pts)\n",
    "What is the baseline rate (mean) of the 10-year risk of CHD in the test sample? \n",
    "\n",
    "What is the baseline performance for the following evaluation criteria - i.e. the expected test performance of a classifier that always predicts 0? \n",
    "\n",
    "* Accuracy\n",
    "* F1-score\n",
    "* Specificity \n",
    "* Sensitivity\n",
    "* Balanced accuracy"
   ]
  },
  {
   "cell_type": "code",
   "execution_count": 3,
   "metadata": {},
   "outputs": [
    {
     "name": "stdout",
     "output_type": "stream",
     "text": [
      "The baseline mean is  0.15235229759299782\n",
      "tp: 0 tn: 3099 fp: 0 fn: 557\n",
      "Accuracy: 0.848 Recall: 0.0 Precision: nan Sensitivity: 0.0 Specificity: 1.0\n",
      "F1 score: nan Balanced accuracy: 0.5\n"
     ]
    },
    {
     "name": "stderr",
     "output_type": "stream",
     "text": [
      "<ipython-input-3-7e300c8379ea>:18: RuntimeWarning: invalid value encountered in long_scalars\n",
      "  precision = tp / (tp + fp)\n"
     ]
    }
   ],
   "source": [
    "mean = np.mean(y)\n",
    "print(\"The baseline mean is \", mean)\n",
    "\n",
    "def compute_performance(yhat, y, classes):\n",
    "    # First, get tp, tn, fp, fn\n",
    "    tp = sum(np.logical_and(yhat == classes[1], y == classes[1]))\n",
    "    tn = sum(np.logical_and(yhat == classes[0], y == classes[0]))\n",
    "    fp = sum(np.logical_and(yhat == classes[1], y == classes[0]))\n",
    "    fn = sum(np.logical_and(yhat == classes[0], y == classes[1]))\n",
    "\n",
    "    print(f\"tp: {tp} tn: {tn} fp: {fp} fn: {fn}\")\n",
    "    \n",
    "    # Accuracy\n",
    "    acc = (tp + tn) / (tp + tn + fp + fn)\n",
    "    \n",
    "    # Precision\n",
    "    # \"Of the ones I labeled +, how many are actually +?\"\n",
    "    precision = tp / (tp + fp)\n",
    "    \n",
    "    # Recall\n",
    "    # \"Of all the + in the data, how many do I correctly label?\"\n",
    "    recall = tp / (tp + fn)    \n",
    "    \n",
    "    # Sensitivity\n",
    "    # \"Of all the + in the data, how many do I correctly label?\"\n",
    "    sensitivity = recall\n",
    "    \n",
    "    # Specificity\n",
    "    # \"Of all the - in the data, how many do I correctly label?\"\n",
    "    specificity = tn / (fp + tn)\n",
    "    \n",
    "    # Print results\n",
    "    fscore = (2*recall*precision)/recall+precision\n",
    "    balanced = (sensitivity+specificity)/2\n",
    "    \n",
    "    print(\"Accuracy:\",round(acc,3),\"Recall:\",round(recall,3),\"Precision:\",round(precision,3),\n",
    "          \"Sensitivity:\",round(sensitivity,3),\"Specificity:\",round(specificity,3))\n",
    "    \n",
    "    print(\"F1 score:\",round(fscore,3),\"Balanced accuracy:\",round(balanced,3))\n",
    "\n",
    "## Put code here to compute criteria:\n",
    "    \n",
    "ytest_hat = np.zeros(y.size)\n",
    "compute_performance(ytest_hat, y, [0,1])"
   ]
  },
  {
   "cell_type": "markdown",
   "metadata": {},
   "source": [
    "### Question 3 (8pts)\n",
    "Using the training data, build a Logisitic regression model (without regularization) based on the demographic variables (male, age, education) only. Using 10-fold cross-validation on the training set, report the performance of this model using a suitable evaluation (scoring) criterion. \n",
    "<br>__Written answer__: Justify your choice of evaluation criterion. Mention at least 2 other evaluation criteria and explain why these are not suitable, or not as good. "
   ]
  },
  {
   "cell_type": "code",
   "execution_count": 4,
   "metadata": {},
   "outputs": [
    {
     "name": "stdout",
     "output_type": "stream",
     "text": [
      "CV Score: 0.0\n",
      "CV scores:  [0. 0. 0. 0. 0. 0. 0. 0. 0. 0.]\n",
      "0.8539387308533917\n"
     ]
    }
   ],
   "source": [
    "# model 1 - linear regression\n",
    "#Since this is a classification quesiton, we can use evaluation criterion from above. Since we mostly care about identifying the correct positive classes, we can use\n",
    "#fscore. Fscore is great for information retrieval in cases like this when the positive class is rare, but the most important diagnoses. Baseline accuracy is 85%, and not\n",
    "#a good measure since most classes will be negative. The difference between identifying a false positive vs a false negative is key here, which baseline accruacy does not\n",
    "#capture. We could also use balanced accuracy, but it is more adept to cases when the positive classes are more frequent and need to be balanced with the distribution.\n",
    "#The balanced accuracy metric gives half its weight to how many positives you labeled correctly and how many negatives you labeled correctly.\n",
    "\n",
    "# cv_score = cross_val_score(modellr, demoXtrain, demoytrain, cv=10, scoring=make_scorer(f1_score))\n",
    "# print('CV Score Mean: ', cv_score.mean())\n",
    "# print('All CV Scores: ', cv_score)\n",
    "# print('Base Model CV Score: ', modellr.score(demoXtrain, demoytrain))\n",
    "\n",
    "\n",
    "md1 = LogisticRegression(penalty='none', max_iter = 10000)\n",
    "\n",
    "X2 = data2.drop(['currentSmoker', 'cigsPerDay', 'BPMeds',\n",
    "       'prevalentStroke', 'prevalentHyp', 'diabetes', 'totChol', 'sysBP',\n",
    "       'diaBP', 'BMI', 'heartRate', 'glucose','TenYearCHD'], axis = 'columns').values\n",
    "y2 = data2.TenYearCHD.values\n",
    "\n",
    "Xtrain2, Xtest2, ytrain2, ytest2 = train_test_split(X2,\n",
    "                                                y2, \n",
    "                                                test_size = 0.5,\n",
    "                                                random_state = 0)\n",
    "\n",
    "modellr = md1.fit(Xtrain2, ytrain2)\n",
    "\n",
    "# Cross validate f1 score directly\n",
    "simple_cv = cross_val_score(modellr, \n",
    "                            Xtrain2, \n",
    "                            ytrain2, \n",
    "                            cv = 10, \n",
    "                            scoring=make_scorer(f1_score))\n",
    "\n",
    "\n",
    "print('CV Score:', simple_cv.mean())\n",
    "print('CV scores: ', simple_cv)\n",
    "\n",
    "print(md1.score(Xtrain2, ytrain2))"
   ]
  },
  {
   "cell_type": "markdown",
   "metadata": {},
   "source": [
    "### Question 4 (6pts)\n",
    "By dropping one variable at a time from the model from Question 3, determine which of the 3 variables is the most crucial variable in the predictive model. Which variable could most likely be excluded? "
   ]
  },
  {
   "cell_type": "code",
   "execution_count": null,
   "metadata": {},
   "outputs": [],
   "source": []
  },
  {
   "cell_type": "code",
   "execution_count": 5,
   "metadata": {},
   "outputs": [
    {
     "name": "stdout",
     "output_type": "stream",
     "text": [
      "CV Score after dropping age: 0.0\n",
      "CV scores:  [0. 0. 0. 0. 0. 0. 0. 0. 0. 0.]\n",
      "0.8539387308533917\n",
      "[[ 1 39]\n",
      " [ 0 46]\n",
      " [ 1 48]\n",
      " ...\n",
      " [ 1 50]\n",
      " [ 1 51]\n",
      " [ 0 52]]\n",
      "CV Score after dropping education: 0.0\n",
      "CV scores:  [0. 0. 0. 0. 0. 0. 0. 0. 0. 0.]\n",
      "0.8539387308533917\n",
      "[[39.  4.]\n",
      " [46.  2.]\n",
      " [48.  1.]\n",
      " ...\n",
      " [50.  1.]\n",
      " [51.  3.]\n",
      " [52.  2.]]\n",
      "CV Score after dropping education: 0.0\n",
      "CV scores:  [0. 0. 0. 0. 0. 0. 0. 0. 0. 0.]\n",
      "0.8539387308533917\n"
     ]
    }
   ],
   "source": [
    "#drop age and get cv score\n",
    "X2 = data2.drop(['age', 'currentSmoker', 'cigsPerDay', 'BPMeds',\n",
    "       'prevalentStroke', 'prevalentHyp', 'diabetes', 'totChol', 'sysBP',\n",
    "       'diaBP', 'BMI', 'heartRate', 'glucose','TenYearCHD'], axis = 'columns').values\n",
    "y2 = data2.TenYearCHD.values\n",
    "\n",
    "Xtrain2, Xtest2, ytrain2, ytest2 = train_test_split(X2,\n",
    "                                                y2, \n",
    "                                                test_size = 0.5,\n",
    "                                                random_state = 0)\n",
    "\n",
    "md1.fit(Xtrain2, ytrain2)\n",
    "\n",
    "# Cross validate f1 score directly\n",
    "simple_cv = cross_val_score(modellr, \n",
    "                            Xtrain2, \n",
    "                            ytrain2, \n",
    "                            cv = 10, \n",
    "                            scoring=make_scorer(f1_score))\n",
    "\n",
    "\n",
    "print('CV Score after dropping age:', simple_cv.mean())\n",
    "print('CV scores: ', simple_cv)\n",
    "\n",
    "print(md1.score(Xtrain2, ytrain2))\n",
    "\n",
    "\n",
    "#drop education and get cv score\n",
    "X2 = data2.drop(['education','currentSmoker', 'cigsPerDay', 'BPMeds',\n",
    "       'prevalentStroke', 'prevalentHyp', 'diabetes', 'totChol', 'sysBP',\n",
    "       'diaBP', 'BMI', 'heartRate', 'glucose','TenYearCHD'], axis = 'columns').values\n",
    "print(X2)\n",
    "y2 = data2.TenYearCHD.values\n",
    "\n",
    "Xtrain2, Xtest2, ytrain2, ytest2 = train_test_split(X2,\n",
    "                                                y2, \n",
    "                                                test_size = 0.5,\n",
    "                                                random_state = 0)\n",
    "\n",
    "md1.fit(Xtrain2, ytrain2)\n",
    "\n",
    "# Cross validate f1 score directly\n",
    "simple_cv = cross_val_score(modellr, \n",
    "                            Xtrain2, \n",
    "                            ytrain2, \n",
    "                            cv = 10, \n",
    "                            scoring=make_scorer(f1_score))\n",
    "\n",
    "\n",
    "print('CV Score after dropping education:', simple_cv.mean())\n",
    "print('CV scores: ', simple_cv)\n",
    "\n",
    "print(md1.score(Xtrain2, ytrain2))\n",
    "\n",
    "\n",
    "#drop sex and get cv score\n",
    "X2 = data2.drop(['male','currentSmoker', 'cigsPerDay', 'BPMeds',\n",
    "       'prevalentStroke', 'prevalentHyp', 'diabetes', 'totChol', 'sysBP',\n",
    "       'diaBP', 'BMI', 'heartRate', 'glucose','TenYearCHD'], axis = 'columns').values\n",
    "print(X2)\n",
    "y2 = data2.TenYearCHD.values\n",
    "\n",
    "Xtrain2, Xtest2, ytrain2, ytest2 = train_test_split(X2,\n",
    "                                                y2, \n",
    "                                                test_size = 0.5,\n",
    "                                                random_state = 0)\n",
    "\n",
    "md1.fit(Xtrain2, ytrain2)\n",
    "\n",
    "# Cross validate f1 score directly\n",
    "simple_cv = cross_val_score(modellr, \n",
    "                            Xtrain2, \n",
    "                            ytrain2, \n",
    "                            cv = 10, \n",
    "                            scoring=make_scorer(f1_score))\n",
    "\n",
    "\n",
    "print('CV Score after dropping education:', simple_cv.mean())\n",
    "print('CV scores: ', simple_cv)\n",
    "\n",
    "print(md1.score(Xtrain2, ytrain2))\n",
    "\n",
    "##We can see that the CV score is highest when male is dropped, meaning it is the most crucial. The CV score is lowest when education is dropped, meaning\n",
    "##it probably doesn't have much impact and can be excluded."
   ]
  },
  {
   "cell_type": "markdown",
   "metadata": {},
   "source": [
    "### Question 5 (7pts)\n",
    "Combine all variables (except the one you want to predict!) into a Logistic regression model without regularization. Using the training set only, determine the average cross-validated log likelihood of the model on the training data, using 10-fold crossvalidation. \n",
    "\n",
    "__Hint__: The log-likelihood for a single observation $y$ and a predicted probability $\\hat{y}$ is \n",
    "$ log P(y|\\hat{y})= y log(\\hat{y}) + (1-y) log(1-\\hat{y})$. There is a sklearn scoring method that calculates this quantity:\n",
    "https://scikit-learn.org/stable/modules/model_evaluation.html"
   ]
  },
  {
   "cell_type": "code",
   "execution_count": 6,
   "metadata": {},
   "outputs": [
    {
     "name": "stdout",
     "output_type": "stream",
     "text": [
      "CV Score: 5.044656567906158\n",
      "CV scores:  [4.90714856 5.09588504 5.09588504 5.09588504 5.09588504 5.09588504\n",
      " 5.09588504 5.09588504 4.93411091 4.93411091]\n",
      "0.8577680525164114\n"
     ]
    }
   ],
   "source": [
    "modellr2 = md1.fit(Xtrain, ytrain)\n",
    "\n",
    "# Cross validate f1 score directly\n",
    "simple_cv = cross_val_score(modellr2, \n",
    "                            Xtrain2, \n",
    "                            ytrain2, \n",
    "                            cv = 10, \n",
    "                            scoring=make_scorer(log_loss))\n",
    "\n",
    "\n",
    "print('CV Score:', simple_cv.mean())\n",
    "print('CV scores: ', simple_cv)\n",
    "\n",
    "print(md1.score(Xtrain, ytrain))"
   ]
  },
  {
   "cell_type": "markdown",
   "metadata": {},
   "source": [
    "## Task 2: Regularized Logisitic regression model (27pts) \n",
    "\n",
    "### Question 1 (8pts)\n",
    "Use L1 regularization to determine the best set of variables to include in a predictive model.\n",
    "Add a penalty of $\\lambda \\sum_{i}{|\\beta_i|_1}$ ($\\beta_i$ are your regression coefficients) to the Logistic regression model. Vary the regularization parameter $\\lambda$ between 0.2 and 200, evenly spaced in log-space. \n",
    "\n",
    "Apply all necessary preprocessing steps to your variables to be able to compare meanfully  between different predictors in the model. \n",
    "\n",
    "Plot the coefficient path, i.e., the size of the regression coefficients relative to the size of the the regularization paramter. \n",
    "<br>__Written Answer :__ Which two variables are the two most important predictors of 10-year risk of CHD?   "
   ]
  },
  {
   "cell_type": "code",
   "execution_count": 7,
   "metadata": {},
   "outputs": [
    {
     "name": "stdout",
     "output_type": "stream",
     "text": [
      "Index(['male', 'age', 'education', 'currentSmoker', 'cigsPerDay', 'BPMeds',\n",
      "       'prevalentStroke', 'prevalentHyp', 'diabetes', 'totChol', 'sysBP',\n",
      "       'diaBP', 'BMI', 'heartRate'],\n",
      "      dtype='object')\n"
     ]
    },
    {
     "data": {
      "image/png": "[encoded data removed]",
      "text/plain": [
       "<Figure size 720x480 with 1 Axes>"
      ]
     },
     "metadata": {
      "needs_background": "light"
     },
     "output_type": "display_data"
    }
   ],
   "source": [
    "regularization_strength = np.exp(np.linspace(np.log(0.2),np.log(200),50))\n",
    "    \n",
    "# cs = l1_min_c(Xtrain, ytrain, loss='log') * np.logspace(0, 7, 16)\n",
    "clf = linear_model.LogisticRegression(penalty='l1', solver='liblinear',\n",
    "                                      tol=1e-6, max_iter=int(1e6),\n",
    "                                      warm_start=True,\n",
    "                                      intercept_scaling=10000.)\n",
    "coefs_ = []\n",
    "for i in (regularization_strength):\n",
    "    clf.set_params(C=i)\n",
    "    clf.fit(Xtrain, ytrain)\n",
    "    coefs_.append(clf.coef_.ravel().copy())\n",
    "\n",
    "fig, ax = plt.subplots(dpi = 120)\n",
    "ax.plot(np.log(regularization_strength), coefs_)\n",
    "ax.set_xlabel(r'$\\log(\\lambda)$', fontsize = 16)\n",
    "ax.set_ylabel(r'$\\hat{\\beta}$', fontsize = 16)\n",
    "ax.set_title('Coefficient Path', fontsize = 18)\n",
    "ax.set_xlim(-4,None)\n",
    "\n",
    "\n",
    "print(Features.columns[:-1])\n",
    "# for i in (Features.columns[:-1]):\n",
    "#     #ytemp = coefs_[i,0]\n",
    "#     ax.annotate(i, xy = (-3, coefs_[0,i]), ha = 'left', fontsize = 8)\n",
    "\n",
    "\n",
    "#########\n",
    "#The two most important features in this data set are represented by the highest magnitute of Beta. In this case, its the pink and brown line. By printing the coefs \n",
    "#we can see this is features (print((coefs_[99]))) X6 and X7, or BPMeds and prevalentStroke"
   ]
  },
  {
   "cell_type": "markdown",
   "metadata": {},
   "source": [
    "### Question 2 (7pts)\n",
    "Using the same model and the range of regularisation parameters as in T2, Q1, determine the 10-fold crossvalidated performance for different values of the L1-regularisation parameter. Use the cross-validated log-likelihood of the data under the model as evaluation criterion. (If you couldn't calulcate the log-likelihood in Task 1, Question 5, use another suitable evaluation criterion).   \n",
    "\n",
    "Make a plot of the crossvalidated log-likelihood against $log(\\lambda)$. \n",
    "\n",
    "<br>__Written Answer :__ Base on this criterion, what is the optional setting of the L1-regularization parameter? At this value, which variables contribute to the prediction? \n"
   ]
  },
  {
   "cell_type": "code",
   "execution_count": 8,
   "metadata": {},
   "outputs": [
    {
     "ename": "IndexError",
     "evalue": "list index out of range",
     "output_type": "error",
     "traceback": [
      "\u001b[1;31m---------------------------------------------------------------------------\u001b[0m",
      "\u001b[1;31mIndexError\u001b[0m                                Traceback (most recent call last)",
      "\u001b[1;32m<ipython-input-8-db0d8ce90703>\u001b[0m in \u001b[0;36m<module>\u001b[1;34m\u001b[0m\n\u001b[1;32m----> 1\u001b[1;33m \u001b[0mprint\u001b[0m\u001b[1;33m(\u001b[0m\u001b[1;33m(\u001b[0m\u001b[0mcoefs_\u001b[0m\u001b[1;33m[\u001b[0m\u001b[1;36m99\u001b[0m\u001b[1;33m]\u001b[0m\u001b[1;33m)\u001b[0m\u001b[1;33m)\u001b[0m\u001b[1;33m\u001b[0m\u001b[1;33m\u001b[0m\u001b[0m\n\u001b[0m",
      "\u001b[1;31mIndexError\u001b[0m: list index out of range"
     ]
    }
   ],
   "source": [
    "print((coefs_[99]))"
   ]
  },
  {
   "cell_type": "code",
   "execution_count": null,
   "metadata": {},
   "outputs": [],
   "source": []
  },
  {
   "cell_type": "code",
   "execution_count": 9,
   "metadata": {},
   "outputs": [
    {
     "data": {
      "text/plain": [
       "Text(0, 0.5, 'cvScoreMean')"
      ]
     },
     "execution_count": 9,
     "metadata": {},
     "output_type": "execute_result"
    },
    {
     "data": {
      "image/png": "[encoded data removed]",
      "text/plain": [
       "<Figure size 720x480 with 1 Axes>"
      ]
     },
     "metadata": {
      "needs_background": "light"
     },
     "output_type": "display_data"
    }
   ],
   "source": [
    "regularization_strength = np.exp(np.linspace(np.log(0.2),np.log(200),50))\n",
    "\n",
    "coefs_ = []\n",
    "cvScoreMean = []\n",
    "for i in (regularization_strength):\n",
    "    clf.set_params(C=i)\n",
    "    clf.fit(Xtrain, ytrain)\n",
    "    coefs_.append(clf.coef_.ravel().copy())\n",
    "    cv_score = cross_val_score(clf, Xtrain, ytrain, cv=10)\n",
    "    cvScoreMean.append(cv_score.mean())\n",
    "\n",
    "fig, ax = plt.subplots(dpi = 120)\n",
    "ax.plot(np.log(regularization_strength), cvScoreMean)\n",
    "ax.set_xlabel(r'$\\log(\\lambda)$', fontsize = 16)\n",
    "ax.set_ylabel(r'cvScoreMean', fontsize = 16)\n"
   ]
  },
  {
   "cell_type": "code",
   "execution_count": 10,
   "metadata": {},
   "outputs": [
    {
     "name": "stdout",
     "output_type": "stream",
     "text": [
      "Best lambda: 0.3052835934350467\n",
      "Variables included: Index(['male', 'age', 'cigsPerDay', 'BPMeds', 'prevalentHyp', 'totChol',\n",
      "       'sysBP', 'diaBP', 'BMI', 'heartRate', 'glucose'],\n",
      "      dtype='object')\n"
     ]
    }
   ],
   "source": [
    "bestI=np.argmax(cvScoreMean)\n",
    "print('Best lambda:',regularization_strength[bestI])\n",
    "print('Variables included:',Features.columns[coefs_[bestI]!=0])"
   ]
  },
  {
   "cell_type": "markdown",
   "metadata": {},
   "source": [
    "### Question 3 (6pts)\n",
    "Using the best lambda that you found, fit the L1-regularized model to all the training data and then get the the predicted probability for each item of the test set. \n",
    "\n",
    "\n",
    "Plot the ROC curve for the test set and model.\n",
    "\n",
    "Report the area under the ROC curve. "
   ]
  },
  {
   "cell_type": "code",
   "execution_count": 11,
   "metadata": {},
   "outputs": [
    {
     "name": "stderr",
     "output_type": "stream",
     "text": [
      "C:\\Users\\gerri\\anaconda3\\lib\\site-packages\\seaborn\\_decorators.py:36: FutureWarning: Pass the following variables as keyword args: x, y. From version 0.12, the only valid positional argument will be `data`, and passing other arguments without an explicit keyword will result in an error or misinterpretation.\n",
      "  warnings.warn(\n"
     ]
    },
    {
     "data": {
      "text/plain": [
       "0.7369602259988342"
      ]
     },
     "execution_count": 11,
     "metadata": {},
     "output_type": "execute_result"
    },
    {
     "data": {
      "image/png": "[encoded data removed]",
      "text/plain": [
       "<Figure size 432x288 with 1 Axes>"
      ]
     },
     "metadata": {
      "needs_background": "light"
     },
     "output_type": "display_data"
    }
   ],
   "source": [
    "regularization_strength = np.exp(np.linspace(np.log(0.2),np.log(200),50))\n",
    "    \n",
    "# cs = l1_min_c(Xtrain, ytrain, loss='log') * np.logspace(0, 7, 16)\n",
    "clf = linear_model.LogisticRegression(C = regularization_strength[bestI],penalty='l1', solver='liblinear',\n",
    "                                      tol=1e-6, max_iter=int(1e6),\n",
    "                                      warm_start=True,\n",
    "                                      intercept_scaling=10000.)\n",
    "\n",
    "clf.fit(Xtrain, ytrain)    \n",
    "ytest_prob = clf.predict_proba(Xtest)\n",
    "fpr, tpr, _ = roc_curve(ytest, ytest_prob[:,1], pos_label=1)\n",
    "ax=sns.lineplot(fpr,tpr)\n",
    "ax.set(xlabel=\"FPR\",ylabel=\"TPR\")\n",
    "auc(fpr,tpr)"
   ]
  },
  {
   "cell_type": "code",
   "execution_count": 12,
   "metadata": {},
   "outputs": [
    {
     "name": "stdout",
     "output_type": "stream",
     "text": [
      "The AUROC is 0.73719339939913\n"
     ]
    }
   ],
   "source": [
    "print(\"The AUROC is\", 0.73719339939913)"
   ]
  },
  {
   "cell_type": "markdown",
   "metadata": {},
   "source": [
    "### Question 4 (6pts)\n",
    "Given the resulting ROC-curve, if you wanted your predictive model to have a sensitivity of more than 0.8, what is the best specificity you could achieve on the test set? \n",
    "\n",
    "Provide the 95% confidence interval on the specificity. Note that there are different ways of getting a valid confidence interval, including the normal approximation (central limit theorem) to the binomial distribution or bootstrap (see Labs for hints). "
   ]
  },
  {
   "cell_type": "code",
   "execution_count": 13,
   "metadata": {},
   "outputs": [
    {
     "data": {
      "text/plain": [
       "(0.31138886030317486, array([0.28651393, 0.33626379]))"
      ]
     },
     "execution_count": 13,
     "metadata": {},
     "output_type": "execute_result"
    }
   ],
   "source": [
    "#If we wanted a sensitivity of at least 0.8, the best specificity we could achieve is around 0.45/0.5\n",
    "\n",
    "def confidence_interval(data):\n",
    "\n",
    "    n = data.size\n",
    "    t_quantile = t.ppf(1-0.05/2, df=n-1)\n",
    "    estimated_mean = data.mean()\n",
    "    # Note, np.std divides by n and not n-1\n",
    "    # Force it to apply the correct formula by ussing ddof=1\n",
    "    # Alternaively, you can use scipy.stats.sem to compute\n",
    "    #The standard error\n",
    "    estimated_se = data.std(ddof=1)/np.sqrt(data.size)\n",
    "    bounds = estimated_mean + t_quantile*estimated_se*np.array([-1,1])\n",
    "\n",
    "    \n",
    "    return estimated_mean, bounds\n",
    "\n",
    "confidence_interval(fpr)\n",
    "#the bounds of the confidence interval are [0.27781947, 0.32417827]"
   ]
  },
  {
   "cell_type": "markdown",
   "metadata": {},
   "source": [
    "## Task 3: Deep learning (26pts + 4 Bonus points)\n",
    "In this task we are looking to see if we can beat the best logistic regression model, using \"deep\" learning. __Only the PyTorch package is to be used in this exam. Using other Deep learning libraries is not permitted.__ \n",
    "\n",
    "### Question 1 (7 pts)\n",
    "Build a simple linear model with 15 input units for the 15 predictor variables in the CHD data set and two output units for the two output classes (0: no CHD risk, 1: CHD risk). Use a LogSigmoid as your output non-linearity. \n",
    "\n",
    "Use the training data set (task 1, Question 1) to train the network:\n",
    "* Z-standarize your input variables \n",
    "* Use the Cross-entropy loss as a training criterion (same as for logisitic regression) \n",
    "* Use Stochastic gradient descent optimizer with a learning rate of 0.01\n",
    "* Run the optimization for 10000 iterations and record the loss for each iteration \n",
    "* Make a plot of iterations vs. loss "
   ]
  },
  {
   "cell_type": "code",
   "execution_count": 14,
   "metadata": {},
   "outputs": [
    {
     "ename": "NameError",
     "evalue": "name 'seq_net' is not defined",
     "output_type": "error",
     "traceback": [
      "\u001b[1;31m---------------------------------------------------------------------------\u001b[0m",
      "\u001b[1;31mNameError\u001b[0m                                 Traceback (most recent call last)",
      "\u001b[1;32m<ipython-input-14-5c83de0a7532>\u001b[0m in \u001b[0;36m<module>\u001b[1;34m\u001b[0m\n\u001b[0;32m      9\u001b[0m \u001b[1;33m\u001b[0m\u001b[0m\n\u001b[0;32m     10\u001b[0m \u001b[0mlossFunc\u001b[0m \u001b[1;33m=\u001b[0m \u001b[0mtorch\u001b[0m\u001b[1;33m.\u001b[0m\u001b[0mnn\u001b[0m\u001b[1;33m.\u001b[0m\u001b[0mCrossEntropyLoss\u001b[0m\u001b[1;33m(\u001b[0m\u001b[1;33m)\u001b[0m\u001b[1;33m\u001b[0m\u001b[1;33m\u001b[0m\u001b[0m\n\u001b[1;32m---> 11\u001b[1;33m \u001b[0moptim\u001b[0m \u001b[1;33m=\u001b[0m \u001b[0mtorch\u001b[0m\u001b[1;33m.\u001b[0m\u001b[0moptim\u001b[0m\u001b[1;33m.\u001b[0m\u001b[0mSGD\u001b[0m\u001b[1;33m(\u001b[0m\u001b[0mseq_net\u001b[0m\u001b[1;33m.\u001b[0m\u001b[0mparameters\u001b[0m\u001b[1;33m(\u001b[0m\u001b[1;33m)\u001b[0m\u001b[1;33m,\u001b[0m\u001b[0mlr\u001b[0m\u001b[1;33m=\u001b[0m\u001b[1;36m0.0711\u001b[0m\u001b[1;33m,\u001b[0m\u001b[0mmomentum\u001b[0m\u001b[1;33m=\u001b[0m\u001b[1;36m0.9\u001b[0m\u001b[1;33m)\u001b[0m\u001b[1;33m\u001b[0m\u001b[1;33m\u001b[0m\u001b[0m\n\u001b[0m\u001b[0;32m     12\u001b[0m \u001b[1;33m\u001b[0m\u001b[0m\n\u001b[0;32m     13\u001b[0m \u001b[1;33m\u001b[0m\u001b[0m\n",
      "\u001b[1;31mNameError\u001b[0m: name 'seq_net' is not defined"
     ]
    }
   ],
   "source": [
    "epoch = 10000\n",
    "\n",
    "md11 = nn.Sequential(\n",
    "    nn.Linear(Xtrain.shape[1],1),\n",
    "    nn.LogSigmoid(),\n",
    "    nn.Linear(1, 2),\n",
    "    nn.ReLU()\n",
    ")\n",
    "\n",
    "lossFunc = torch.nn.CrossEntropyLoss()\n",
    "optim = torch.optim.SGD(seq_net.parameters(),lr=0.0711,momentum=0.9)\n",
    "\n",
    "\n",
    "for i in range(epoch):\n",
    "    \n",
    "    output = seq_net(X)\n",
    "    loss = lossFunc(output,Y)\n",
    "\n",
    "    optim.zero_grad()\n",
    "    loss.backward()\n",
    "    optim.step()\n",
    "\n",
    "    if (i+1)%4==0 :\n",
    "        print(str((i+1))+'th loss',loss.squeeze())\n",
    "    \n",
    "    if i % 2 == 0:\n",
    "        # plot the data to verify the learning process\n",
    "        plt.cla()\n",
    "        prediction = torch.max(output, 1)[1]\n",
    "        predicted_y = prediction.data.numpy().squeeze()\n",
    "        target_y = Y.data.numpy()\n",
    "        plt.scatter(X.data.numpy()[:, 0], X.data.numpy()[:, 1], c=predicted_y, s=100, lw=0, cmap='RdYlGn')\n",
    "        accuracy = sum(predicted_y == target_y)/200.\n",
    "        plt.text(2, -8, 'Accuracy=%.2f' % accuracy, fontdict={'size': 33, 'color':  'black'})\n",
    "        plt.pause(0.05)\n",
    "\n",
    "plt.ioff()\n",
    "plt.show()"
   ]
  },
  {
   "cell_type": "markdown",
   "metadata": {},
   "source": [
    "### Question 2 (8pts)\n",
    "Use the trained network to make a prediction for the test set. Report an area under the ROC curve for the test data set. \n",
    "\n",
    "HINT: To obtain a probability from the output of the network, take the logistic function of the difference between the activities of the two output units. Remember the output unit 0 is high when the model \"thinks\" is class is 0 and the output unit 1 is higher when the model \"thinks\" the class is 1.   "
   ]
  },
  {
   "cell_type": "code",
   "execution_count": null,
   "metadata": {},
   "outputs": [],
   "source": [
    "#some predictions done above."
   ]
  },
  {
   "cell_type": "markdown",
   "metadata": {},
   "source": [
    "### Question 3 (6pts)\n",
    "Now add a hidden layer with 50 units into the network. Use a LogSigmoid non-linearity for the hidden layer. Leave all the other parameters the same as for Question 1. Again, plot the loss as a function of the iteration. "
   ]
  },
  {
   "cell_type": "code",
   "execution_count": null,
   "metadata": {},
   "outputs": [],
   "source": [
    "md11 = nn.Sequential(\n",
    "    nn.Linear(Xtrain.shape[1],50),\n",
    "    nn.LogSigmoid(),\n",
    "    nn.Linear(50, 2),\n",
    "    nn.ReLU()\n",
    ")"
   ]
  },
  {
   "cell_type": "markdown",
   "metadata": {},
   "source": [
    "### Question 4 (5pts)\n",
    "As for Question 2, report the area under the ROC curve for this network on the test set. \n",
    "\n",
    "__Written answer:__ What do you conclude? "
   ]
  },
  {
   "cell_type": "code",
   "execution_count": null,
   "metadata": {},
   "outputs": [],
   "source": []
  },
  {
   "cell_type": "markdown",
   "metadata": {},
   "source": [
    "### Question 4  -  Hyperparameter Tuning (4 Bonus pts)\n",
    "Good Job, your employers are very impressed with your progress! Despite their satisfaction, you decide to try and improve your models further using hyperparameter optimization. You decide to test only a few hyperparameter combinations.\n",
    "\n",
    "Create a a function to performa the hyperparameter tuning \n",
    "\n",
    "After your hp tuning has been completed, inspect the results  and print the best model score and parameters"
   ]
  },
  {
   "cell_type": "code",
   "execution_count": null,
   "metadata": {},
   "outputs": [],
   "source": []
  },
  {
   "cell_type": "markdown",
   "metadata": {},
   "source": [
    "## Task 4: Trees (18pts)\n",
    "The code below generates and shows 4 decision trees trained on a classification problem where the feature matrix $X$ has shape $10,000 \\times 10$  and the outcome has 4 classes labaled 0 through 3.  The feature names are $X_j \\, j = 1 \\dots 10$.  Assume each tree has been trained on a bootstrapped version of the training data and that every feature was available to the tree at every split."
   ]
  },
  {
   "cell_type": "code",
   "execution_count": null,
   "metadata": {},
   "outputs": [],
   "source": [
    "from IPython.display import Image\n",
    "Image(filename = 'tree_0.png')\n",
    "#Outcome : 2"
   ]
  },
  {
   "cell_type": "code",
   "execution_count": null,
   "metadata": {},
   "outputs": [],
   "source": [
    "Image(filename = 'tree_1.png')\n",
    "# Outcome: 1"
   ]
  },
  {
   "cell_type": "code",
   "execution_count": null,
   "metadata": {},
   "outputs": [],
   "source": [
    "Image(filename = 'tree_2.png')\n",
    "#Outcome: 0"
   ]
  },
  {
   "cell_type": "code",
   "execution_count": null,
   "metadata": {},
   "outputs": [],
   "source": [
    "Image(filename = 'tree_3.png')\n",
    "#Outcome = 0"
   ]
  },
  {
   "cell_type": "markdown",
   "metadata": {},
   "source": [
    "### Question 1 (4 pts)  \n",
    "How would each tree classify the following observation? \n",
    "\n",
    "$$\\mathbf{x} = \\begin{bmatrix} \n",
    "1.03\\\\\n",
    "-0.20\\\\\n",
    "2.00\\\\\n",
    "-.99\\\\\n",
    "-0.30\\\\\n",
    "0.15\\\\\n",
    "-.11\\\\\n",
    "5.10\\\\\n",
    "-0.77\\\\\n",
    "0.90\\\\\n",
    "\\end{bmatrix}$$\n",
    "\n"
   ]
  },
  {
   "cell_type": "markdown",
   "metadata": {},
   "source": [
    "Tree 0:\n",
    "X5 = -0.3 is > than -0.47, and X2 = -0.2 < -0.17 so its classified as class 2\n",
    "\n",
    "Tree 1:\n",
    "X5 = -0.3 is > than -0.42, and X2 =-.2 > - 0.23 so its classified as class 1\n",
    "\n",
    "Tree 2:\n",
    "X5 = -0.3 is < -0.03 , so its classified as class 0\n",
    "\n",
    "Tree 3:\n",
    "X5 = -0.3 is < -0.24, and 0.15 > -0.32 , so its classified as class 0"
   ]
  },
  {
   "cell_type": "markdown",
   "metadata": {},
   "source": [
    "### Question 2 (5pts) \n",
    "Together these trees form an ensemble.  What kind is the name of that model?  What are the advantages to using this model over decision trees?  What are the problems with this model?  How would the ensemble classify the observation in part 1?\n"
   ]
  },
  {
   "cell_type": "markdown",
   "metadata": {},
   "source": [
    "This is a random forest model. The advantages of this are that it uses bagging to reduce the variances of the trees. By random subsampling of the feautres to create smaller trees rather than one big decision tree, we can get a more accurate model as iterations approach infinity. This essentially decorrelates the tree so that we can repeat the tree modelling infinitely with subsets, whereas decision trees rely on all of the data at once. The issues also stem from this same benefit. With more iterations, the tree can grow more complex and begin to overfit that data, again gaining variance.\n",
    "\n",
    "The trees would vote on the class, in this case, resulting in class 0."
   ]
  },
  {
   "cell_type": "markdown",
   "metadata": {},
   "source": [
    "### Question 3 (4pts) \n",
    "Write python code that would fit the model described above if you were to be given the training data (Xtrain,ytrain).\n"
   ]
  },
  {
   "cell_type": "code",
   "execution_count": null,
   "metadata": {},
   "outputs": [],
   "source": [
    "from sklearn.ensemble import RandomForestRegressor\n",
    "\n",
    "# impelement a random forest. Are the results obtained better or worse than those seen using a single decision tree. \n",
    "clf = RandomForestClassifier(max_depth=2, random_state=0)\n",
    "clf.fit(Xtrain,ytrain)"
   ]
  },
  {
   "cell_type": "markdown",
   "metadata": {},
   "source": [
    "### Question 4 (5pts) \n",
    "Suppose you trained this model and were unsatisfied with the performance.  What would be the next tree based model you would try?  Explain how this model works as if you were talking to a fellow data scientist and why it improves upon the model in part 2 (in theory). In your explanation, highlight similarities and differences between your chosen model and the model in part 2."
   ]
  },
  {
   "cell_type": "markdown",
   "metadata": {},
   "source": [
    "If I was unsatisified with the performance, I may try boosting the trees instead of bagging with a random forest. In particular, I may try using Stochastic Gradient\n",
    "Boosting. This model works by using very small trees with 1 or 2 split, and passing the new basis functions forward so that the next tree can learn from the previous function without adjusting any already calculated parameters/fits. This model is particularly good when compared to random forests for data samples that are relatively small. Each tree is flexible and fast to implement. Since it is also an Additive model, it only gets more and more accurate (up to a certain extent of overfitting). Much like the first model though, it uses iterations and repetition to reduce the variance and increase accuracy."
   ]
  },
  {
   "cell_type": "code",
   "execution_count": null,
   "metadata": {},
   "outputs": [],
   "source": []
  }
 ],
 "metadata": {
  "kernelspec": {
   "display_name": "Python 3",
   "language": "python",
   "name": "python3"
  },
  "language_info": {
   "codemirror_mode": {
    "name": "ipython",
    "version": 3
   },
   "file_extension": ".py",
   "mimetype": "text/x-python",
   "name": "python",
   "nbconvert_exporter": "python",
   "pygments_lexer": "ipython3",
   "version": "3.8.5"
  }
 },
 "nbformat": 4,
 "nbformat_minor": 4
}
