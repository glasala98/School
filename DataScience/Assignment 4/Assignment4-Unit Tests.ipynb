{
 "cells": [
  {
   "cell_type": "code",
   "execution_count": null,
   "metadata": {},
   "outputs": [],
   "source": [
    "class PublicTests: \n",
    "    \n",
    "    def test_bounds_q1(data): \n",
    "        estimated_mean, bounds = confidence_interval(data)\n",
    "        assert bounds.size == 2\n",
    "        \n",
    "     # xp is the fed to the model predict function    \n",
    "    def test_sizeXp_q4(xp):\n",
    "        assert xp.size == 30\n",
    "        \n",
    "    # yp is the result of the prediction    \n",
    "    def test_resultPrediction_q4(yp):\n",
    "        assert round(yp[10],2) == 190.05 \n",
    "        \n",
    "    def test_theta_q5(data): \n",
    "        theta = BootstrapCoef(data, 1000)\n",
    "        numRows, numCols = theta.shape\n",
    "        assert numRows == 1000 and numCols == 2\n",
    "    \n",
    "    def test_lowerBoundCI_q6(boot_ci):\n",
    "        assert round(boot_ci[0][0], 3) == 3.3\n",
    "        \n",
    "    def test_yPredicted_q8(yp):\n",
    "        assert round(yp[3],2) == 174.96"
   ]
  }
 ],
 "metadata": {
  "kernelspec": {
   "display_name": "Python 3",
   "language": "python",
   "name": "python3"
  },
  "language_info": {
   "codemirror_mode": {
    "name": "ipython",
    "version": 3
   },
   "file_extension": ".py",
   "mimetype": "text/x-python",
   "name": "python",
   "nbconvert_exporter": "python",
   "pygments_lexer": "ipython3",
   "version": "3.8.5"
  }
 },
 "nbformat": 4,
 "nbformat_minor": 4
}
