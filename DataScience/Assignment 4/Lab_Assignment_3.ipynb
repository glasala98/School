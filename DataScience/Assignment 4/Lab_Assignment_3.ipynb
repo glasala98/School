{
 "cells": [
  {
   "cell_type": "markdown",
   "metadata": {},
   "source": [
    "# Lab Assignment 3: Classification with Logistic Regression\n",
    "\n",
    "# Total: /100\n",
    "\n",
    "## Instructions\n",
    "\n",
    "* Complete the Lab assignment\n",
    "\n",
    "* Once the notebook is complete, restart your kernel and rerun your cells\n",
    "\n",
    "* Submit this notebook to owl by the deadline\n",
    "\n",
    "* You may use any python library functions you wish to complete the Lab assignment.\n",
    "\n",
    "## The Dataset\n",
    "\n",
    "The dataset contains transactions made by credit cards in September 2013 by European cardholders. \n",
    "This dataset presents transactions that occurred in two days, where we have 492 frauds out of 284,807 transactions. The dataset is highly unbalanced, the positive class (frauds) account for 0.172% of all transactions.\n",
    "\n",
    "It contains only numerical input variables which are the result of a PCA transformation. Unfortunately, due to confidentiality issues, we cannot provide the original features and more background information about the data. Features V1, V2, … V28 are the principal components obtained with PCA, the only features which have not been transformed with PCA are 'Time' and 'Amount'. \\[You will learn about PCA in a later Lesson.\\] Feature 'Time' contains the seconds elapsed between each transaction and the first transaction in the dataset. The feature 'Amount' is the transaction Amount. Feature 'Class' is the response variable and it takes value 1 in case of fraud and 0 otherwise.\n",
    "\n",
    "You can read more about the data and the variables [here](https://www.kaggle.com/mlg-ulb/creditcardfraud)."
   ]
  },
  {
   "cell_type": "code",
   "execution_count": 1,
   "metadata": {},
   "outputs": [],
   "source": [
    "# You may need these\n",
    "import pandas as pd\n",
    "import seaborn as sns\n",
    "import numpy as np\n",
    "from sklearn.model_selection import train_test_split\n",
    "from sklearn.linear_model import LogisticRegression\n",
    "from sklearn.metrics import confusion_matrix, roc_curve, precision_recall_curve, auc, average_precision_score, plot_precision_recall_curve\n",
    "from sklearn.compose import TransformedTargetRegressor, make_column_transformer\n",
    "\n",
    "\n",
    "import matplotlib.pyplot as plt\n",
    "%matplotlib inline"
   ]
  },
  {
   "cell_type": "markdown",
   "metadata": {},
   "source": [
    "## Question 1: /5 pts\n",
    "\n",
    "Read in the `creditcard.csv` dataset and display the first 5 rows.\n"
   ]
  },
  {
   "cell_type": "code",
   "execution_count": 2,
   "metadata": {},
   "outputs": [
    {
     "data": {
      "text/html": [
       "<div>\n",
       "<style scoped>\n",
       "    .dataframe tbody tr th:only-of-type {\n",
       "        vertical-align: middle;\n",
       "    }\n",
       "\n",
       "    .dataframe tbody tr th {\n",
       "        vertical-align: top;\n",
       "    }\n",
       "\n",
       "    .dataframe thead th {\n",
       "        text-align: right;\n",
       "    }\n",
       "</style>\n",
       "<table border=\"1\" class=\"dataframe\">\n",
       "  <thead>\n",
       "    <tr style=\"text-align: right;\">\n",
       "      <th></th>\n",
       "      <th>Time</th>\n",
       "      <th>V1</th>\n",
       "      <th>V2</th>\n",
       "      <th>V3</th>\n",
       "      <th>V4</th>\n",
       "      <th>V5</th>\n",
       "      <th>V6</th>\n",
       "      <th>V7</th>\n",
       "      <th>V8</th>\n",
       "      <th>V9</th>\n",
       "      <th>...</th>\n",
       "      <th>V21</th>\n",
       "      <th>V22</th>\n",
       "      <th>V23</th>\n",
       "      <th>V24</th>\n",
       "      <th>V25</th>\n",
       "      <th>V26</th>\n",
       "      <th>V27</th>\n",
       "      <th>V28</th>\n",
       "      <th>Amount</th>\n",
       "      <th>Class</th>\n",
       "    </tr>\n",
       "  </thead>\n",
       "  <tbody>\n",
       "    <tr>\n",
       "      <th>0</th>\n",
       "      <td>0.0</td>\n",
       "      <td>-1.359807</td>\n",
       "      <td>-0.072781</td>\n",
       "      <td>2.536347</td>\n",
       "      <td>1.378155</td>\n",
       "      <td>-0.338321</td>\n",
       "      <td>0.462388</td>\n",
       "      <td>0.239599</td>\n",
       "      <td>0.098698</td>\n",
       "      <td>0.363787</td>\n",
       "      <td>...</td>\n",
       "      <td>-0.018307</td>\n",
       "      <td>0.277838</td>\n",
       "      <td>-0.110474</td>\n",
       "      <td>0.066928</td>\n",
       "      <td>0.128539</td>\n",
       "      <td>-0.189115</td>\n",
       "      <td>0.133558</td>\n",
       "      <td>-0.021053</td>\n",
       "      <td>149.62</td>\n",
       "      <td>0</td>\n",
       "    </tr>\n",
       "    <tr>\n",
       "      <th>1</th>\n",
       "      <td>0.0</td>\n",
       "      <td>1.191857</td>\n",
       "      <td>0.266151</td>\n",
       "      <td>0.166480</td>\n",
       "      <td>0.448154</td>\n",
       "      <td>0.060018</td>\n",
       "      <td>-0.082361</td>\n",
       "      <td>-0.078803</td>\n",
       "      <td>0.085102</td>\n",
       "      <td>-0.255425</td>\n",
       "      <td>...</td>\n",
       "      <td>-0.225775</td>\n",
       "      <td>-0.638672</td>\n",
       "      <td>0.101288</td>\n",
       "      <td>-0.339846</td>\n",
       "      <td>0.167170</td>\n",
       "      <td>0.125895</td>\n",
       "      <td>-0.008983</td>\n",
       "      <td>0.014724</td>\n",
       "      <td>2.69</td>\n",
       "      <td>0</td>\n",
       "    </tr>\n",
       "    <tr>\n",
       "      <th>2</th>\n",
       "      <td>1.0</td>\n",
       "      <td>-1.358354</td>\n",
       "      <td>-1.340163</td>\n",
       "      <td>1.773209</td>\n",
       "      <td>0.379780</td>\n",
       "      <td>-0.503198</td>\n",
       "      <td>1.800499</td>\n",
       "      <td>0.791461</td>\n",
       "      <td>0.247676</td>\n",
       "      <td>-1.514654</td>\n",
       "      <td>...</td>\n",
       "      <td>0.247998</td>\n",
       "      <td>0.771679</td>\n",
       "      <td>0.909412</td>\n",
       "      <td>-0.689281</td>\n",
       "      <td>-0.327642</td>\n",
       "      <td>-0.139097</td>\n",
       "      <td>-0.055353</td>\n",
       "      <td>-0.059752</td>\n",
       "      <td>378.66</td>\n",
       "      <td>0</td>\n",
       "    </tr>\n",
       "    <tr>\n",
       "      <th>3</th>\n",
       "      <td>1.0</td>\n",
       "      <td>-0.966272</td>\n",
       "      <td>-0.185226</td>\n",
       "      <td>1.792993</td>\n",
       "      <td>-0.863291</td>\n",
       "      <td>-0.010309</td>\n",
       "      <td>1.247203</td>\n",
       "      <td>0.237609</td>\n",
       "      <td>0.377436</td>\n",
       "      <td>-1.387024</td>\n",
       "      <td>...</td>\n",
       "      <td>-0.108300</td>\n",
       "      <td>0.005274</td>\n",
       "      <td>-0.190321</td>\n",
       "      <td>-1.175575</td>\n",
       "      <td>0.647376</td>\n",
       "      <td>-0.221929</td>\n",
       "      <td>0.062723</td>\n",
       "      <td>0.061458</td>\n",
       "      <td>123.50</td>\n",
       "      <td>0</td>\n",
       "    </tr>\n",
       "    <tr>\n",
       "      <th>4</th>\n",
       "      <td>2.0</td>\n",
       "      <td>-1.158233</td>\n",
       "      <td>0.877737</td>\n",
       "      <td>1.548718</td>\n",
       "      <td>0.403034</td>\n",
       "      <td>-0.407193</td>\n",
       "      <td>0.095921</td>\n",
       "      <td>0.592941</td>\n",
       "      <td>-0.270533</td>\n",
       "      <td>0.817739</td>\n",
       "      <td>...</td>\n",
       "      <td>-0.009431</td>\n",
       "      <td>0.798278</td>\n",
       "      <td>-0.137458</td>\n",
       "      <td>0.141267</td>\n",
       "      <td>-0.206010</td>\n",
       "      <td>0.502292</td>\n",
       "      <td>0.219422</td>\n",
       "      <td>0.215153</td>\n",
       "      <td>69.99</td>\n",
       "      <td>0</td>\n",
       "    </tr>\n",
       "  </tbody>\n",
       "</table>\n",
       "<p>5 rows × 31 columns</p>\n",
       "</div>"
      ],
      "text/plain": [
       "   Time        V1        V2        V3        V4        V5        V6        V7  \\\n",
       "0   0.0 -1.359807 -0.072781  2.536347  1.378155 -0.338321  0.462388  0.239599   \n",
       "1   0.0  1.191857  0.266151  0.166480  0.448154  0.060018 -0.082361 -0.078803   \n",
       "2   1.0 -1.358354 -1.340163  1.773209  0.379780 -0.503198  1.800499  0.791461   \n",
       "3   1.0 -0.966272 -0.185226  1.792993 -0.863291 -0.010309  1.247203  0.237609   \n",
       "4   2.0 -1.158233  0.877737  1.548718  0.403034 -0.407193  0.095921  0.592941   \n",
       "\n",
       "         V8        V9  ...       V21       V22       V23       V24       V25  \\\n",
       "0  0.098698  0.363787  ... -0.018307  0.277838 -0.110474  0.066928  0.128539   \n",
       "1  0.085102 -0.255425  ... -0.225775 -0.638672  0.101288 -0.339846  0.167170   \n",
       "2  0.247676 -1.514654  ...  0.247998  0.771679  0.909412 -0.689281 -0.327642   \n",
       "3  0.377436 -1.387024  ... -0.108300  0.005274 -0.190321 -1.175575  0.647376   \n",
       "4 -0.270533  0.817739  ... -0.009431  0.798278 -0.137458  0.141267 -0.206010   \n",
       "\n",
       "        V26       V27       V28  Amount  Class  \n",
       "0 -0.189115  0.133558 -0.021053  149.62      0  \n",
       "1  0.125895 -0.008983  0.014724    2.69      0  \n",
       "2 -0.139097 -0.055353 -0.059752  378.66      0  \n",
       "3 -0.221929  0.062723  0.061458  123.50      0  \n",
       "4  0.502292  0.219422  0.215153   69.99      0  \n",
       "\n",
       "[5 rows x 31 columns]"
      ]
     },
     "execution_count": 2,
     "metadata": {},
     "output_type": "execute_result"
    }
   ],
   "source": [
    "# Question 1 code here\n",
    "# Read in the data with pandas\n",
    "creditcard = pd.read_csv('creditcard.csv')\n",
    "creditcard.head()"
   ]
  },
  {
   "cell_type": "markdown",
   "metadata": {},
   "source": [
    "## Question 2: /5 pts\n",
    "\n",
    "Then split the data into train and test for the outcome/response and the predictor variables. Hold out 50% of observations as the test set.  Pass `random_state=0` to `train_test_split` to ensure you get the same train and tests sets as the solution."
   ]
  },
  {
   "cell_type": "code",
   "execution_count": 3,
   "metadata": {},
   "outputs": [],
   "source": [
    "# Question 2 code here.\n",
    "X = creditcard.Amount.values\n",
    "y = creditcard.Class.values\n",
    "\n",
    "Xtrain, Xtest, ytrain, ytest = train_test_split(X, y, test_size=0.5, random_state=0)"
   ]
  },
  {
   "cell_type": "markdown",
   "metadata": {},
   "source": [
    "## Question 3: /5 pts\n",
    "\n",
    "Read the documentation for [sklearn's `LogisticRegression`](https://scikit-learn.org/stable/modules/generated/sklearn.linear_model.LogisticRegression.html).  In no more than 2 sentences per bullet point, answer the following in your own words.\n",
    "\n",
    "* Does `LogisticRegression` use a penalty by default?  If yes, what penalty?\n",
    "\n",
    "**YOUR ANSWER HERE:**  Yes, it uses a penalty. The default is the L2 penalty.\n",
    "    \n",
    "* If we apply a penalty during learning, what difference do you expect to see in the resulting coefficients, relative to not applying a penalty during learning?\n",
    "\n",
    "**YOUR ANSWER HERE:** If there is noise in the training data, then the estimated coefficients won’t generalize well to the future data. Using a penalty and regularizing will minimize/bring these coefficients down to zero or closer to it.\n",
    "    \n",
    "* If using the default settings of `LogisticRegression` in `sklearn`, should you include a column of 1s in your feature/design matrix? Briefly explain why or why not.\n",
    "\n",
    "**YOUR ANSWER HERE:** No, by default it will add the column of 1s to the design matrix for us since it defaults to fit the intercept.\n"
   ]
  },
  {
   "cell_type": "markdown",
   "metadata": {},
   "source": [
    "## Question 4: /15 pts\n",
    "\n",
    "Create a instance of sklearn's `LogisticRegression` object for unpenalized logistic regression. Note: If you get a warning about convergence of `coef_`, try increasing the `max_iter` parameter.  I used `max_iter=10000` which seems to supress the warning.\n",
    "\n",
    "Using this object, **run a logisitic regression analysis** of `Class` (y-variable) against `Amount` (x-variable) using your training data. \n",
    "\n",
    "Then **make a scatter-plot of `Amount` and `Outcome` on your test data** and add the class prediction (0 or 1, using `predict`) and the predicted probability of a positive outcome (using `predict_proba`). Note that `predict_proba` will return both p(Outcome=0) and p(Outcome=1)."
   ]
  },
  {
   "cell_type": "code",
   "execution_count": 4,
   "metadata": {},
   "outputs": [
    {
     "name": "stdout",
     "output_type": "stream",
     "text": [
      "Intercept [-6.38060759] \n",
      "Coefficients: [[0.00032136]]\n",
      "142404\n",
      "284808\n"
     ]
    },
    {
     "data": {
      "text/plain": [
       "[]"
      ]
     },
     "execution_count": 4,
     "metadata": {},
     "output_type": "execute_result"
    },
    {
     "data": {
      "image/png": "[encoded data removed]",
      "text/plain": [
       "<Figure size 432x288 with 1 Axes>"
      ]
     },
     "metadata": {
      "needs_background": "light"
     },
     "output_type": "display_data"
    }
   ],
   "source": [
    "# Question 4 code here\n",
    "CREDITLR = LogisticRegression(penalty='none',max_iter=10000)\n",
    "Xtrain = Xtrain.reshape(-1,1)\n",
    "Xtest = Xtest.reshape(-1,1)\n",
    "creditlr = CREDITLR.fit(Xtrain,ytrain)\n",
    "print(f\"Intercept {creditlr.intercept_} \\nCoefficients: {creditlr.coef_}\")\n",
    "\n",
    "assert isinstance(Xtrain, np.ndarray)\n",
    "assert Xtest.shape == (142404, 1)\n",
    "\n",
    "yp2 = creditlr.predict_proba(Xtest)\n",
    "ytest_hat = creditlr.predict(Xtest)\n",
    "print(len(ytest_hat))\n",
    "print(yp2.size)\n",
    "ytest_pos = yp2[:,1]\n",
    "fig, ax = plt.subplots()\n",
    "plt.scatter(Xtest, ytest_pos, alpha = 0.5)\n",
    "plt.scatter(Xtest, ytest_hat, color='red', alpha = 0.1)\n",
    "plt.xlabel('Amount')\n",
    "plt.ylabel('Probability of Positive Outcome')\n",
    "plt.title('Outcome vs Amount')\n",
    "Label = 'Red = Prediction(0 or 1) \\n Blue = Positive Outcome Probability'\n",
    "plt.text(100,0.7, Label)\n",
    "plt.plot()"
   ]
  },
  {
   "cell_type": "markdown",
   "metadata": {},
   "source": [
    "## Question 5: 15 pts\n",
    "\n",
    "Compute the label-based criteria we discussed in the Lesson for your amount-only classifier **using the test data**. Use a threshold of 0.5. Answer the questions in this text box below.\n",
    "\n",
    "* How many of the test instances are labeled positive by your classifier?\n",
    "\n",
    "**YOUR ANSWER HERE:** 1 test intance was labeled positive.\n",
    "\n",
    "* Choose one of the positively-labeled test instances, and explain why the classifier labeled it positive.\n",
    "\n",
    "**YOUR ANSWER HERE:** The classifier labeled it positive because the fitted regression returned a larger value than the threshold for the point. In this case, a threshold of 0.5 was reached by the point (roughly > 20000). \n",
    "\n",
    "* Is this classifier useful for finding fraudulent transactions? Explain in one or two sentences.\n",
    "\n",
    "**YOUR ANSWER HERE:** No, although the accuracy is >99%, the high accuracy comes from labelling the negatives. From the results, we can see that 243 were labelled as negative when they should have been positive. This means that the classifier is not useful, since it was never able to predict true positive (ie. recall is 0).\n"
   ]
  },
  {
   "cell_type": "code",
   "execution_count": 5,
   "metadata": {},
   "outputs": [
    {
     "name": "stdout",
     "output_type": "stream",
     "text": [
      "[[0.99828693 0.00171307]\n",
      " [0.9983077  0.0016923 ]\n",
      " [0.99825588 0.00174412]\n",
      " ...\n",
      " [0.9981599  0.0018401 ]\n",
      " [0.99825061 0.00174939]\n",
      " [0.99818766 0.00181234]]\n",
      "tp: 0 tn: 142160 fp: 1 fn: 243\n",
      "Accuracy: 0.998 Recall: 0.0 Precision: 0.0 Sensitivity: 0.0 Specificity: 1.0\n"
     ]
    }
   ],
   "source": [
    "# Calculate performance measures from scratch\n",
    "# TP: true postives \n",
    "# TN: true negatives \n",
    "# FP: False positives \n",
    "# FN: False negatives\n",
    "def compute_performance(yhat, y, classes):\n",
    "    # First, get tp, tn, fp, fn\n",
    "    tp = sum(np.logical_and(yhat == classes[1], y == classes[1]))\n",
    "    tn = sum(np.logical_and(yhat == classes[0], y == classes[0]))\n",
    "    fp = sum(np.logical_and(yhat == classes[1], y == classes[0]))\n",
    "    fn = sum(np.logical_and(yhat == classes[0], y == classes[1]))\n",
    "\n",
    "    print(f\"tp: {tp} tn: {tn} fp: {fp} fn: {fn}\")\n",
    "    \n",
    "    # Accuracy\n",
    "    acc = (tp + tn) / (tp + tn + fp + fn)\n",
    "    \n",
    "    # Precision\n",
    "    # \"Of the ones I labeled +, how many are actually +?\"\n",
    "    precision = tp / (tp + fp)\n",
    "    \n",
    "    # Recall\n",
    "    # \"Of all the + in the data, how many do I correctly label?\"\n",
    "    recall = tp / (tp + fn)    \n",
    "    \n",
    "    # Sensitivity\n",
    "    # \"Of all the + in the data, how many do I correctly label?\"\n",
    "    sensitivity = recall\n",
    "    \n",
    "    # Specificity\n",
    "    # \"Of all the - in the data, how many do I correctly label?\"\n",
    "    specificity = tn / (fp + tn)\n",
    "    \n",
    "    # Print results\n",
    "    \n",
    "    print(\"Accuracy:\",round(acc,3),\"Recall:\",round(recall,3),\"Precision:\",round(precision,3),\n",
    "          \"Sensitivity:\",round(sensitivity,3),\"Specificity:\",round(specificity,3))\n",
    "\n",
    "## Put code here to compute criteria:\n",
    "# Now let's experiment by adjusting the decision threshold\n",
    "ytest_prob = creditlr.predict_proba(Xtest)\n",
    "print(ytest_prob)\n",
    "yhat = creditlr.classes_[(ytest_prob[:,1]>0.5).astype(int)]\n",
    "compute_performance(yhat, ytest, creditlr.classes_)\n"
   ]
  },
  {
   "cell_type": "markdown",
   "metadata": {},
   "source": [
    "## Question 6: /10 pts\n",
    "Now fit a logistic regression model to the training data and include all the variables in the data frame in the cell below. You will want to make a new object like you did for the simpler model. Answer the following question.\n",
    "\n",
    "* According to this more complex model, are larger or smaller Amounts more strongly associated with fraud, if all other variables are held equal?\n",
    "\n",
    "**YOUR ANSWER HERE:** \n",
    "After scaling all the coefficients to the same unit using standard deviation, we can compare the relationships with all other variables being equal. As shown in the bar graph, the coefficient for amount is negative, so a smaller amount will be LESS likely to be fraudulant given all other variables are held. Larger accounts are more strongly associated with fraud since it is inversely correlated to amount."
   ]
  },
  {
   "cell_type": "code",
   "execution_count": 6,
   "metadata": {},
   "outputs": [
    {
     "name": "stdout",
     "output_type": "stream",
     "text": [
      "Intercept [-3.33589096] \n",
      "Coefficients: [[-5.98322502e-05  4.54100202e-01 -3.87817744e-01 -1.17685002e+00\n",
      "   1.19780653e-01 -2.01070338e-01 -4.81589910e-02  9.11812239e-01\n",
      "  -4.94355995e-01 -5.94406454e-01 -4.95512085e-01 -6.30959026e-01\n",
      "   1.03972867e-01 -4.79471102e-01 -8.05021591e-01 -9.78791623e-01\n",
      "  -4.55581640e-01 -4.86924285e-01  1.64035946e-01 -2.74597892e-02\n",
      "   2.48266179e-01  6.54353643e-01  6.56760606e-01  7.08167793e-02\n",
      "  -5.74875494e-02 -8.49742198e-01  1.93292414e-01 -1.28589964e-01\n",
      "   1.21823762e-01 -6.37462998e-03]]\n",
      "Index(['Time', 'V1', 'V2', 'V3', 'V4', 'V5', 'V6', 'V7', 'V8', 'V9', 'V10',\n",
      "       'V11', 'V12', 'V13', 'V14', 'V15', 'V16', 'V17', 'V18', 'V19', 'V20',\n",
      "       'V21', 'V22', 'V23', 'V24', 'V25', 'V26', 'V27', 'V28', 'Amount'],\n",
      "      dtype='object')\n",
      "Xtrain is \n",
      "30\n"
     ]
    },
    {
     "data": {
      "image/png": "[encoded data removed]",
      "text/plain": [
       "<Figure size 648x504 with 1 Axes>"
      ]
     },
     "metadata": {
      "needs_background": "light"
     },
     "output_type": "display_data"
    }
   ],
   "source": [
    "# Code for Question 6\n",
    "X = creditcard.drop('Class', axis='columns').values\n",
    "y = creditcard.Class.values\n",
    "Xtrain, Xtest, ytrain, ytestMulti = train_test_split(X, y, test_size=0.5, random_state=0)\n",
    "CREDITLR = LogisticRegression(penalty='none',max_iter=10000)\n",
    "creditlr2 = CREDITLR.fit(Xtrain,ytrain)\n",
    "print(f\"Intercept {creditlr2.intercept_} \\nCoefficients: {creditlr2.coef_}\")\n",
    "assert round(creditlr2.coef_[0][3],2) == -1.18\n",
    "\n",
    "\n",
    "feature_names = (creditcard.columns)\n",
    "feature_names = feature_names.delete(-1)\n",
    "print(feature_names)\n",
    "\n",
    "coefs = pd.DataFrame(\n",
    "    creditlr2.coef_.T,\n",
    "    columns=['Coefficients'], index=feature_names\n",
    ")\n",
    "\n",
    "print(\"Xtrain is \")\n",
    "\n",
    "XtrainT = Xtrain.T\n",
    "print(len(XtrainT))\n",
    "XtrainSTD= []\n",
    "XtrainSTD = (np.std(XtrainT, axis=1))\n",
    "\n",
    "coefScaled = np.multiply(creditlr2.coef_,XtrainSTD)\n",
    "\n",
    "coefs2 = pd.DataFrame(\n",
    "    coefScaled.T,\n",
    "    columns=['Coefficient importance'], index=feature_names\n",
    ")\n",
    "coefs2.plot(kind='barh', figsize=(9, 7))\n",
    "plt.title('Scaled Coefficients')\n",
    "plt.axvline(x=0, color='.5')\n",
    "plt.subplots_adjust(left=.3)\n"
   ]
  },
  {
   "cell_type": "markdown",
   "metadata": {},
   "source": [
    "## Question 7: /15 pts\n",
    "\n",
    "In the cell below, Compute the label-based criteria we discussed in the Lesson for new classifier using the test data. (You don't have to copy the function down into this cell; just call it again here.) Use a threshold of 0.5. Answer the questions in this text box below.\n",
    "\n",
    "* How many of the test instances are labeled positive by your classifier?\n",
    "\n",
    "**YOUR ANSWER:** tp + fp = 183. The classifier labelled 183 as positive.\n",
    "\n",
    "* Is this classifier **better or worse than the amount-only classifier** for finding fraudulent transactions? Explain in one or two sentences.*\n",
    "\n",
    "**YOUR ANSWER:** This classifier is much better at classifying fraudulant transactions. The recall is 63.4%, meaning it was able to identify nearly two-thirds of all fraudulant transactions whereas the amount-only couldn't identify any. There are also more false positives though, so we must be careful to treat the predictions as completely accurate. It is still much better than amount only classifier though."
   ]
  },
  {
   "cell_type": "code",
   "execution_count": 7,
   "metadata": {},
   "outputs": [
    {
     "name": "stdout",
     "output_type": "stream",
     "text": [
      "[0 0 0 ... 0 0 0]\n",
      "tp: 154 tn: 142132 fp: 29 fn: 89\n",
      "Accuracy: 0.999 Recall: 0.634 Precision: 0.842 Sensitivity: 0.634 Specificity: 1.0\n"
     ]
    }
   ],
   "source": [
    "# Code for Question 7\n",
    "creditlr2.predict_proba(Xtest)\n",
    "ytest_hat = creditlr2.predict(Xtest)\n",
    "print(ytest_hat)\n",
    "ytest_prob_Multi = creditlr2.predict_proba(Xtest)\n",
    "yhat = creditlr2.classes_[(ytest_prob_Multi[:,1]>0.5).astype(int)]\n",
    "\n",
    "compute_performance(yhat, ytestMulti, creditlr2.classes_)"
   ]
  },
  {
   "cell_type": "markdown",
   "metadata": {},
   "source": [
    "# Question 8: /15 pts\n",
    "\n",
    "Plot ROC curves for both of your classifiers using the cells below, then answer the following questions, computing whatever quantities you need to answer them.\n",
    "\n",
    "* Which classifier has a higher estimated probability of correctly distinguishing between a positive and a negative instance? How do you know?\n",
    "\n",
    "**YOUR ANSWER:** The multi class classifier has a higher probability. The ROC curve (TPR/FPR) has a higher AUROC, meaning it has a higher degree of seperability between a positive and negative instance.\n",
    "\n",
    "* How could you explain a result where a logistic regression classifier produces an AUROC that is \"worse than random\", i.e. less than 0.5, even on its training set?\n",
    "\n",
    "**YOUR ANSWER:** When there is plenty of noise in the training data, it can try to overfit or underfit the data and lead to a poor regression. This means that the regression may end up being worse than a random guess when applied to future data or test data, especially if the training data set is small.\n"
   ]
  },
  {
   "cell_type": "code",
   "execution_count": 8,
   "metadata": {},
   "outputs": [
    {
     "name": "stderr",
     "output_type": "stream",
     "text": [
      "/Library/Frameworks/Python.framework/Versions/3.8/lib/python3.8/site-packages/seaborn/_decorators.py:36: FutureWarning: Pass the following variables as keyword args: x, y. From version 0.12, the only valid positional argument will be `data`, and passing other arguments without an explicit keyword will result in an error or misinterpretation.\n",
      "  warnings.warn(\n"
     ]
    },
    {
     "name": "stdout",
     "output_type": "stream",
     "text": [
      "0.42178603619387894\n"
     ]
    },
    {
     "data": {
      "image/png": "[encoded data removed]",
      "text/plain": [
       "<Figure size 432x288 with 1 Axes>"
      ]
     },
     "metadata": {
      "needs_background": "light"
     },
     "output_type": "display_data"
    }
   ],
   "source": [
    "# ROC for Amount-only classifier\n",
    "fpr, tpr, _ = roc_curve(ytest, ytest_prob[:,1])\n",
    "ax=sns.lineplot(fpr,tpr)\n",
    "ax.set_xlabel('False Positive Rate')\n",
    "ax.set_ylabel('True Positive Rate')\n",
    "ax.set_title('Single Class ROC Curve')\n",
    "print(auc(fpr,tpr))\n",
    "assert round(fpr[421], 2) == 0.02"
   ]
  },
  {
   "cell_type": "code",
   "execution_count": 9,
   "metadata": {},
   "outputs": [
    {
     "name": "stderr",
     "output_type": "stream",
     "text": [
      "/Library/Frameworks/Python.framework/Versions/3.8/lib/python3.8/site-packages/seaborn/_decorators.py:36: FutureWarning: Pass the following variables as keyword args: x, y. From version 0.12, the only valid positional argument will be `data`, and passing other arguments without an explicit keyword will result in an error or misinterpretation.\n",
      "  warnings.warn(\n"
     ]
    },
    {
     "name": "stdout",
     "output_type": "stream",
     "text": [
      "0.9276588188729274\n"
     ]
    },
    {
     "data": {
      "image/png": "[encoded data removed]",
      "text/plain": [
       "<Figure size 432x288 with 1 Axes>"
      ]
     },
     "metadata": {
      "needs_background": "light"
     },
     "output_type": "display_data"
    }
   ],
   "source": [
    "# ROC for all-variable classifier\n",
    "fpr, tpr, _ = roc_curve(ytestMulti, ytest_prob_Multi[:,1])\n",
    "ax=sns.lineplot(fpr,tpr)\n",
    "ax.set_xlabel('False Positive Rate')\n",
    "ax.set_ylabel('True Positive Rate')\n",
    "ax.set_title('Multi Class ROC Curve')\n",
    "print(auc(fpr,tpr))\n",
    "assert round(tpr[223],2) == 0.88"
   ]
  },
  {
   "cell_type": "markdown",
   "metadata": {},
   "source": [
    "# Question 9: /15 pts\n",
    "\n",
    "Plot precision-recall curves for both of your classifiers using the cell below. Be sure to label your axes.\n",
    "\n",
    "* Which classifier is preferable if we want to recover at least 60% of fraudulent transactions?\n",
    "\n",
    "**YOUR ANSWER:** The 2nd classifier has an average precision of 0.64, so it is suitable for recovering 60% of fraudulent transactions.\n"
   ]
  },
  {
   "cell_type": "code",
   "execution_count": 10,
   "metadata": {},
   "outputs": [
    {
     "data": {
      "text/plain": [
       "Text(0.5, 1.0, 'Single Class Precision-Recall curve: ')"
      ]
     },
     "execution_count": 10,
     "metadata": {},
     "output_type": "execute_result"
    },
    {
     "data": {
      "image/png": "[encoded data removed]",
      "text/plain": [
       "<Figure size 432x288 with 1 Axes>"
      ]
     },
     "metadata": {
      "needs_background": "light"
     },
     "output_type": "display_data"
    }
   ],
   "source": [
    "# PRC for Amount-only classifier\n",
    "X = creditcard.Amount.values\n",
    "y = creditcard.Class.values\n",
    "Xtrain, Xtest, ytrain, ytest = train_test_split(X, y, test_size=0.5, random_state=0)\n",
    "CREDITLR = LogisticRegression(penalty='none',max_iter=10000)\n",
    "Xtrain = Xtrain.reshape(-1,1)\n",
    "Xtest = Xtest.reshape(-1,1)\n",
    "creditlr = CREDITLR.fit(Xtrain,ytrain)\n",
    "\n",
    "disp = plot_precision_recall_curve(creditlr, Xtest, ytest)\n",
    "disp.ax_.set_title('Single Class Precision-Recall curve: ')"
   ]
  },
  {
   "cell_type": "code",
   "execution_count": 11,
   "metadata": {},
   "outputs": [
    {
     "data": {
      "text/plain": [
       "Text(0.5, 1.0, 'Multi Class Precision-Recall curve: ')"
      ]
     },
     "execution_count": 11,
     "metadata": {},
     "output_type": "execute_result"
    },
    {
     "data": {
      "image/png": "[encoded data removed]",
      "text/plain": [
       "<Figure size 432x288 with 1 Axes>"
      ]
     },
     "metadata": {
      "needs_background": "light"
     },
     "output_type": "display_data"
    }
   ],
   "source": [
    "# PRC for all-variable classifier\n",
    "X = creditcard.drop('Class', axis='columns').values\n",
    "y = creditcard.Class.values\n",
    "Xtrain, Xtest, ytrain, ytestMulti = train_test_split(X, y, test_size=0.5, random_state=0)\n",
    "CREDITLR = LogisticRegression(penalty='none',max_iter=10000)\n",
    "creditlr2 = CREDITLR.fit(Xtrain,ytrain)\n",
    "disp = plot_precision_recall_curve(creditlr2, Xtest, ytestMulti)\n",
    "disp.ax_.set_title('Multi Class Precision-Recall curve: ')"
   ]
  },
  {
   "cell_type": "code",
   "execution_count": null,
   "metadata": {},
   "outputs": [],
   "source": []
  }
 ],
 "metadata": {
  "kernelspec": {
   "display_name": "Python 3",
   "language": "python",
   "name": "python3"
  },
  "language_info": {
   "codemirror_mode": {
    "name": "ipython",
    "version": 3
   },
   "file_extension": ".py",
   "mimetype": "text/x-python",
   "name": "python",
   "nbconvert_exporter": "python",
   "pygments_lexer": "ipython3",
   "version": "3.8.5"
  }
 },
 "nbformat": 4,
 "nbformat_minor": 4
}
