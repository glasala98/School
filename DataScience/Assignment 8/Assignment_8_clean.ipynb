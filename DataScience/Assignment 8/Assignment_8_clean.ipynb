{
 "cells": [
  {
   "cell_type": "code",
   "execution_count": 1,
   "id": "extreme-pattern",
   "metadata": {},
   "outputs": [],
   "source": [
    "# You can import *ANYTHING* you want here.\n",
    "import numpy as np\n",
    "import matplotlib.pyplot as plt\n",
    "import seaborn as sns\n",
    "from xgboost import XGBRegressor\n",
    "from sklearn.ensemble import RandomForestRegressor\n",
    "from sklearn.metrics import mean_absolute_percentage_error # Requires sklearn 0.24 (December 2020), update with conda/pip if needed.\n",
    "from sklearn.model_selection import GridSearchCV, train_test_split\n",
    "from sklearn.datasets import make_classification\n",
    "from sklearn.ensemble import RandomForestClassifier\n",
    "from collections import OrderedDict\n",
    "import pandas as pd"
   ]
  },
  {
   "cell_type": "markdown",
   "id": "postal-parker",
   "metadata": {},
   "source": [
    "# Assignment 8: Tree methods\n",
    "\n",
    "In this assignment we'll study tree methods and their capabilities as interpolators and extrapolators, and the importance of understanding your data. We will use a dataset of energy consumption of home appliances for houses in Chievres, Belgium. The data has the following variables:\n",
    "\n",
    "- date time year-month-day hour:minute:second\n",
    "- Appliances, energy use in Wh (**Target variable**)energy_extrapolation\n",
    "- lights, energy use of light fixtures in the house in Wh\n",
    "- T1, Temperature in kitchen area, in Celsius\n",
    "- RH_1, Humidity in kitchen area, in %\n",
    "- T2, Temperature in living room area, in Celsius\n",
    "- RH_2, Humidity in living room area, in %\n",
    "- T3, Temperature in laundry room area\n",
    "- RH_3, Humidity in laundry room area, in %\n",
    "- T4, Temperature in office room, in Celsius\n",
    "- RH_4, Humidity in office room, in %\n",
    "- T5, Temperature in bathroom, in Celsius\n",
    "- RH_5, Humidity in bathroom, in %\n",
    "- T6, Temperature outside the building (north side), in Celsius\n",
    "- RH_6, Humidity outside the building (north side), in %\n",
    "- T7, Temperature in ironing room , in Celsius\n",
    "- RH_7, Humidity in ironing room, in %\n",
    "- T8, Temperature in teenager room 2, in Celsius\n",
    "- RH_8, Humidity in teenager room 2, in %\n",
    "- T9, Temperature in parents room, in Celsius\n",
    "- RH_9, Humidity in parents room, in %\n",
    "- To, Temperature outside (from Chievres weather station), in Celsius\n",
    "- Pressure (from Chievres weather station), in mm Hg\n",
    "- RH_out, Humidity outside (from Chievres weather station), in %\n",
    "- Wind speed (from Chievres weather station), in m/s\n",
    "- Visibility (from Chievres weather station), in km\n",
    "- Tdewpoint (from Chievres weather station), in C degrees\n",
    "\n",
    "You are given two datasets: energy_appliances_standard.csv and energy_appliances_extrapolation.csv. The first dataset has typical consumption patterns, while the second one has the top 10% highest consumptions and will be used to test the extrapolating capacities of our models.\n"
   ]
  },
  {
   "cell_type": "markdown",
   "id": "british-exploration",
   "metadata": {},
   "source": [
    "## Task 1: Random Forests (35/100)\n",
    "\n",
    "Random Forests are excellent predictors. Usually we only need to tune one parameter: the number of trees in the model. However, how many trees are enough? Follow these steps:\n",
    "\n",
    "1. Load the training dataset (energy_appliances_standard.csv) and show the descriptive statistics of the variables. (3 pts)\n",
    "\n",
    "2. Create a train / test partition of the data using 30% of the data for the test set and a ```random_state``` value of 20201107(2 pts).\n",
    "\n",
    "3. Follow [this example](https://scikit-learn.org/stable/auto_examples/ensemble/plot_ensemble_oob.html) and train a [Random Forest Regressor](https://scikit-learn.org/stable/modules/generated/sklearn.ensemble.RandomForestRegressor.html) using ```Appliances``` as the target variable. Test between 50 and 250 trees, plotting the Out-of-Bag (OOB) error after every iteration. Be patient as training can take a while. Written answer: What is the optimal number of trees for your model and why do you think this? (15 pts)\n",
    "\n",
    "4. Train your final random forest with the number of trees you selected in part 3. Apply this model over your test set and over the extrapolating dataset (from the file ```energy_appliances_extrapolation.csv```), calculating the mean absolute percentual error for each dataset.  Show in a scatterplot the predicted value vs the real value of the target variable for both the test set and the extrapolation set (in the same plot), differentiating both by using different colors for the points. Written answer: How does the random forest model perform on predicting Appliance energy usage in the extrapolation data set? If it performs poorly, why? If it performs well, why? *Hint: look at the scatterplot*. (15 points)"
   ]
  },
  {
   "cell_type": "code",
   "execution_count": 2,
   "id": "common-bubble",
   "metadata": {},
   "outputs": [
    {
     "data": {
      "text/html": [
       "<div>\n",
       "<style scoped>\n",
       "    .dataframe tbody tr th:only-of-type {\n",
       "        vertical-align: middle;\n",
       "    }\n",
       "\n",
       "    .dataframe tbody tr th {\n",
       "        vertical-align: top;\n",
       "    }\n",
       "\n",
       "    .dataframe thead th {\n",
       "        text-align: right;\n",
       "    }\n",
       "</style>\n",
       "<table border=\"1\" class=\"dataframe\">\n",
       "  <thead>\n",
       "    <tr style=\"text-align: right;\">\n",
       "      <th></th>\n",
       "      <th>Appliances</th>\n",
       "      <th>lights</th>\n",
       "      <th>T1</th>\n",
       "      <th>RH_1</th>\n",
       "      <th>T2</th>\n",
       "      <th>RH_2</th>\n",
       "      <th>T3</th>\n",
       "      <th>RH_3</th>\n",
       "      <th>T4</th>\n",
       "      <th>RH_4</th>\n",
       "      <th>...</th>\n",
       "      <th>T8</th>\n",
       "      <th>RH_8</th>\n",
       "      <th>T9</th>\n",
       "      <th>RH_9</th>\n",
       "      <th>T_out</th>\n",
       "      <th>Press_mm_hg</th>\n",
       "      <th>RH_out</th>\n",
       "      <th>Windspeed</th>\n",
       "      <th>Visibility</th>\n",
       "      <th>Tdewpoint</th>\n",
       "    </tr>\n",
       "  </thead>\n",
       "  <tbody>\n",
       "    <tr>\n",
       "      <th>count</th>\n",
       "      <td>17735.000000</td>\n",
       "      <td>17735.000000</td>\n",
       "      <td>17735.000000</td>\n",
       "      <td>17735.000000</td>\n",
       "      <td>17735.000000</td>\n",
       "      <td>17735.000000</td>\n",
       "      <td>17735.000000</td>\n",
       "      <td>17735.000000</td>\n",
       "      <td>17735.000000</td>\n",
       "      <td>17735.000000</td>\n",
       "      <td>...</td>\n",
       "      <td>17735.000000</td>\n",
       "      <td>17735.000000</td>\n",
       "      <td>17735.000000</td>\n",
       "      <td>17735.000000</td>\n",
       "      <td>17735.000000</td>\n",
       "      <td>17735.000000</td>\n",
       "      <td>17735.000000</td>\n",
       "      <td>17735.000000</td>\n",
       "      <td>17735.000000</td>\n",
       "      <td>17735.000000</td>\n",
       "    </tr>\n",
       "    <tr>\n",
       "      <th>mean</th>\n",
       "      <td>68.121229</td>\n",
       "      <td>3.445729</td>\n",
       "      <td>21.688855</td>\n",
       "      <td>40.150264</td>\n",
       "      <td>20.293891</td>\n",
       "      <td>40.469997</td>\n",
       "      <td>22.230926</td>\n",
       "      <td>39.160423</td>\n",
       "      <td>20.860319</td>\n",
       "      <td>38.983631</td>\n",
       "      <td>...</td>\n",
       "      <td>22.050534</td>\n",
       "      <td>43.016242</td>\n",
       "      <td>19.505556</td>\n",
       "      <td>41.552215</td>\n",
       "      <td>7.314032</td>\n",
       "      <td>755.566425</td>\n",
       "      <td>80.249079</td>\n",
       "      <td>3.969812</td>\n",
       "      <td>38.305214</td>\n",
       "      <td>3.762879</td>\n",
       "    </tr>\n",
       "    <tr>\n",
       "      <th>std</th>\n",
       "      <td>30.182146</td>\n",
       "      <td>7.552424</td>\n",
       "      <td>1.604312</td>\n",
       "      <td>3.930099</td>\n",
       "      <td>2.171999</td>\n",
       "      <td>4.063088</td>\n",
       "      <td>1.969945</td>\n",
       "      <td>3.219280</td>\n",
       "      <td>2.047586</td>\n",
       "      <td>4.320711</td>\n",
       "      <td>...</td>\n",
       "      <td>1.961083</td>\n",
       "      <td>5.202160</td>\n",
       "      <td>2.010550</td>\n",
       "      <td>4.161873</td>\n",
       "      <td>5.291010</td>\n",
       "      <td>7.339842</td>\n",
       "      <td>14.768037</td>\n",
       "      <td>2.447164</td>\n",
       "      <td>11.957900</td>\n",
       "      <td>4.187098</td>\n",
       "    </tr>\n",
       "    <tr>\n",
       "      <th>min</th>\n",
       "      <td>10.000000</td>\n",
       "      <td>0.000000</td>\n",
       "      <td>16.790000</td>\n",
       "      <td>27.023333</td>\n",
       "      <td>16.100000</td>\n",
       "      <td>20.463333</td>\n",
       "      <td>17.200000</td>\n",
       "      <td>28.766667</td>\n",
       "      <td>15.100000</td>\n",
       "      <td>27.660000</td>\n",
       "      <td>...</td>\n",
       "      <td>16.306667</td>\n",
       "      <td>29.600000</td>\n",
       "      <td>14.890000</td>\n",
       "      <td>29.166667</td>\n",
       "      <td>-5.000000</td>\n",
       "      <td>729.366667</td>\n",
       "      <td>24.000000</td>\n",
       "      <td>0.000000</td>\n",
       "      <td>1.000000</td>\n",
       "      <td>-6.600000</td>\n",
       "    </tr>\n",
       "    <tr>\n",
       "      <th>25%</th>\n",
       "      <td>50.000000</td>\n",
       "      <td>0.000000</td>\n",
       "      <td>20.760000</td>\n",
       "      <td>37.260000</td>\n",
       "      <td>18.790000</td>\n",
       "      <td>37.930000</td>\n",
       "      <td>20.790000</td>\n",
       "      <td>36.826667</td>\n",
       "      <td>19.566667</td>\n",
       "      <td>35.500000</td>\n",
       "      <td>...</td>\n",
       "      <td>20.828889</td>\n",
       "      <td>39.200000</td>\n",
       "      <td>18.066667</td>\n",
       "      <td>38.530000</td>\n",
       "      <td>3.500000</td>\n",
       "      <td>751.000000</td>\n",
       "      <td>71.333333</td>\n",
       "      <td>2.000000</td>\n",
       "      <td>29.000000</td>\n",
       "      <td>0.933333</td>\n",
       "    </tr>\n",
       "    <tr>\n",
       "      <th>50%</th>\n",
       "      <td>60.000000</td>\n",
       "      <td>0.000000</td>\n",
       "      <td>21.600000</td>\n",
       "      <td>39.533333</td>\n",
       "      <td>19.926667</td>\n",
       "      <td>40.545000</td>\n",
       "      <td>22.100000</td>\n",
       "      <td>38.466667</td>\n",
       "      <td>20.666667</td>\n",
       "      <td>38.363333</td>\n",
       "      <td>...</td>\n",
       "      <td>22.166667</td>\n",
       "      <td>42.440000</td>\n",
       "      <td>19.390000</td>\n",
       "      <td>40.863333</td>\n",
       "      <td>6.850000</td>\n",
       "      <td>756.100000</td>\n",
       "      <td>84.333333</td>\n",
       "      <td>3.500000</td>\n",
       "      <td>40.000000</td>\n",
       "      <td>3.433333</td>\n",
       "    </tr>\n",
       "    <tr>\n",
       "      <th>75%</th>\n",
       "      <td>80.000000</td>\n",
       "      <td>0.000000</td>\n",
       "      <td>22.600000</td>\n",
       "      <td>42.863333</td>\n",
       "      <td>21.463333</td>\n",
       "      <td>43.326667</td>\n",
       "      <td>23.290000</td>\n",
       "      <td>41.530000</td>\n",
       "      <td>22.100000</td>\n",
       "      <td>42.066667</td>\n",
       "      <td>...</td>\n",
       "      <td>23.390000</td>\n",
       "      <td>46.590000</td>\n",
       "      <td>20.600000</td>\n",
       "      <td>44.290000</td>\n",
       "      <td>10.333333</td>\n",
       "      <td>760.950000</td>\n",
       "      <td>91.845238</td>\n",
       "      <td>5.333333</td>\n",
       "      <td>40.000000</td>\n",
       "      <td>6.550000</td>\n",
       "    </tr>\n",
       "    <tr>\n",
       "      <th>max</th>\n",
       "      <td>190.000000</td>\n",
       "      <td>50.000000</td>\n",
       "      <td>26.200000</td>\n",
       "      <td>59.633333</td>\n",
       "      <td>29.856667</td>\n",
       "      <td>56.026667</td>\n",
       "      <td>29.100000</td>\n",
       "      <td>49.656667</td>\n",
       "      <td>26.200000</td>\n",
       "      <td>51.000000</td>\n",
       "      <td>...</td>\n",
       "      <td>27.230000</td>\n",
       "      <td>58.780000</td>\n",
       "      <td>24.500000</td>\n",
       "      <td>53.326667</td>\n",
       "      <td>26.100000</td>\n",
       "      <td>772.283333</td>\n",
       "      <td>100.000000</td>\n",
       "      <td>14.000000</td>\n",
       "      <td>66.000000</td>\n",
       "      <td>15.500000</td>\n",
       "    </tr>\n",
       "  </tbody>\n",
       "</table>\n",
       "<p>8 rows × 26 columns</p>\n",
       "</div>"
      ],
      "text/plain": [
       "         Appliances        lights            T1          RH_1            T2  \\\n",
       "count  17735.000000  17735.000000  17735.000000  17735.000000  17735.000000   \n",
       "mean      68.121229      3.445729     21.688855     40.150264     20.293891   \n",
       "std       30.182146      7.552424      1.604312      3.930099      2.171999   \n",
       "min       10.000000      0.000000     16.790000     27.023333     16.100000   \n",
       "25%       50.000000      0.000000     20.760000     37.260000     18.790000   \n",
       "50%       60.000000      0.000000     21.600000     39.533333     19.926667   \n",
       "75%       80.000000      0.000000     22.600000     42.863333     21.463333   \n",
       "max      190.000000     50.000000     26.200000     59.633333     29.856667   \n",
       "\n",
       "               RH_2            T3          RH_3            T4          RH_4  \\\n",
       "count  17735.000000  17735.000000  17735.000000  17735.000000  17735.000000   \n",
       "mean      40.469997     22.230926     39.160423     20.860319     38.983631   \n",
       "std        4.063088      1.969945      3.219280      2.047586      4.320711   \n",
       "min       20.463333     17.200000     28.766667     15.100000     27.660000   \n",
       "25%       37.930000     20.790000     36.826667     19.566667     35.500000   \n",
       "50%       40.545000     22.100000     38.466667     20.666667     38.363333   \n",
       "75%       43.326667     23.290000     41.530000     22.100000     42.066667   \n",
       "max       56.026667     29.100000     49.656667     26.200000     51.000000   \n",
       "\n",
       "       ...            T8          RH_8            T9          RH_9  \\\n",
       "count  ...  17735.000000  17735.000000  17735.000000  17735.000000   \n",
       "mean   ...     22.050534     43.016242     19.505556     41.552215   \n",
       "std    ...      1.961083      5.202160      2.010550      4.161873   \n",
       "min    ...     16.306667     29.600000     14.890000     29.166667   \n",
       "25%    ...     20.828889     39.200000     18.066667     38.530000   \n",
       "50%    ...     22.166667     42.440000     19.390000     40.863333   \n",
       "75%    ...     23.390000     46.590000     20.600000     44.290000   \n",
       "max    ...     27.230000     58.780000     24.500000     53.326667   \n",
       "\n",
       "              T_out   Press_mm_hg        RH_out     Windspeed    Visibility  \\\n",
       "count  17735.000000  17735.000000  17735.000000  17735.000000  17735.000000   \n",
       "mean       7.314032    755.566425     80.249079      3.969812     38.305214   \n",
       "std        5.291010      7.339842     14.768037      2.447164     11.957900   \n",
       "min       -5.000000    729.366667     24.000000      0.000000      1.000000   \n",
       "25%        3.500000    751.000000     71.333333      2.000000     29.000000   \n",
       "50%        6.850000    756.100000     84.333333      3.500000     40.000000   \n",
       "75%       10.333333    760.950000     91.845238      5.333333     40.000000   \n",
       "max       26.100000    772.283333    100.000000     14.000000     66.000000   \n",
       "\n",
       "          Tdewpoint  \n",
       "count  17735.000000  \n",
       "mean       3.762879  \n",
       "std        4.187098  \n",
       "min       -6.600000  \n",
       "25%        0.933333  \n",
       "50%        3.433333  \n",
       "75%        6.550000  \n",
       "max       15.500000  \n",
       "\n",
       "[8 rows x 26 columns]"
      ]
     },
     "execution_count": 2,
     "metadata": {},
     "output_type": "execute_result"
    }
   ],
   "source": [
    "# Data load\n",
    "# Read from the file we just got.\n",
    "energy_data = pd.read_csv('energy_appliances_standard.csv')\n",
    "\n",
    "#Describe\n",
    "energy_data.describe()\n"
   ]
  },
  {
   "cell_type": "code",
   "execution_count": 5,
   "id": "disturbed-temperature",
   "metadata": {},
   "outputs": [],
   "source": [
    "# Create train / test split\n",
    "# Split into train and test, fixing seed.\n",
    "energy_train_noWoE, energy_test_noWoE = train_test_split(energy_data.iloc[:, 0:], # Data \n",
    "                                                             test_size = 0.3,           # Size of test\n",
    "                                                             random_state = 20201107)   # Seed\n",
    "\n",
    "X = energy_train_noWoE\n",
    "y = energy_train_noWoE.Appliances\n",
    "RANDOM_STATE = 20201107"
   ]
  },
  {
   "cell_type": "code",
   "execution_count": 71,
   "id": "excessive-breakfast",
   "metadata": {},
   "outputs": [],
   "source": [
    "# Generate a binary classification dataset.\n",
    "\n",
    "# NOTE: Setting the `warm_start` construction parameter to `True` disables\n",
    "# support for parallelized ensembles but is necessary for tracking the OOB\n",
    "# error trajectory during training.\n",
    "ensemble_clfs = [\n",
    "    (\"RandomForestClassifier, max_features='sqrt'\",\n",
    "        RandomForestRegressor(warm_start=True, oob_score=True,\n",
    "                               max_features=\"sqrt\",\n",
    "                               random_state=RANDOM_STATE)),\n",
    "    (\"RandomForestClassifier, max_features='log2'\",\n",
    "        RandomForestRegressor(warm_start=True, max_features='log2',\n",
    "                               oob_score=True,\n",
    "                               random_state=RANDOM_STATE)),\n",
    "    (\"RandomForestClassifier, max_features=None\",\n",
    "        RandomForestRegressor(warm_start=True, max_features=None,\n",
    "                               oob_score=True,\n",
    "                               random_state=RANDOM_STATE))\n",
    "]\n",
    "\n",
    "# Map a classifier name to a list of (<n_estimators>, <error rate>) pairs.\n",
    "error_rate = OrderedDict((label, []) for label, _ in ensemble_clfs)\n",
    "\n",
    "# Range of `n_estimators` values to explore.\n",
    "min_estimators = 50\n",
    "max_estimators = 250\n",
    "\n",
    "for label, clf in ensemble_clfs:\n",
    "    for i in range(min_estimators, max_estimators + 1):\n",
    "        clf.set_params(n_estimators=i)\n",
    "        clf.fit(X, y)\n",
    "\n",
    "        # Record the OOB error for each `n_estimators=i` setting.\n",
    "        oob_error = 1 - clf.oob_score_\n",
    "        error_rate[label].append((i, oob_error))\n"
   ]
  },
  {
   "cell_type": "code",
   "execution_count": 72,
   "id": "consistent-adaptation",
   "metadata": {},
   "outputs": [
    {
     "data": {
      "image/png": "[encoded data removed]",
      "text/plain": [
       "<Figure size 432x288 with 1 Axes>"
      ]
     },
     "metadata": {
      "needs_background": "light"
     },
     "output_type": "display_data"
    }
   ],
   "source": [
    "# Plot the OOB error per number of trees\n",
    "# Generate the \"OOB error rate\" vs. \"n_estimators\" plot.\n",
    "for label, clf_err in error_rate.items():\n",
    "    xs, ys = zip(*clf_err)\n",
    "    plt.plot(xs, ys, label=label)\n",
    "\n",
    "plt.xlim(min_estimators, max_estimators)\n",
    "plt.xlabel(\"n_estimators\")\n",
    "plt.ylabel(\"OOB error rate\")\n",
    "plt.legend(loc=\"upper right\")\n",
    "plt.show()"
   ]
  },
  {
   "cell_type": "markdown",
   "id": "weekly-stephen",
   "metadata": {},
   "source": [
    "**Written answer:** The Optimal Number of Trees is 250 this is because as you increadse the number of trees you reduce your rate of error.\n"
   ]
  },
  {
   "cell_type": "code",
   "execution_count": 94,
   "id": "spectacular-radius",
   "metadata": {},
   "outputs": [
    {
     "name": "stdout",
     "output_type": "stream",
     "text": [
      "5321\n",
      "12414\n"
     ]
    }
   ],
   "source": [
    "# Final forest\n",
    "#Define the classifier\n",
    "energy_rf = RandomForestRegressor(n_estimators=250,random_state=20190305)\n",
    "\n",
    "# Apply this model over your test set and over the extrapolating dataset (from the file energy_appliances_extrapolation.csv),\n",
    "# calculating the mean absolute percentual error for each dataset. \n",
    "\n",
    "# Train the RF.\n",
    "energy_rf.fit(energy_train_noWoE.iloc[:,:-1], \n",
    "               energy_train_noWoE['Appliances'])\n",
    "\n",
    "# Apply the model to the test set.\n",
    "rf_pred_class_test = energy_rf.predict(energy_test_noWoE.iloc[:, :-1])\n",
    "\n",
    "\n",
    "# Calculate error over test set\n",
    "# TestError = mean_absolute_percentage_error(energy_train_noWoE['Appliances'], rf_pred_class_test)\n",
    "\n",
    "# Load the second dataset\n",
    "energy_data2 = pd.read_csv('energy_appliances_extrapolation.csv')\n",
    "energy_train_noWoE2, energy_test_noWoE2 = train_test_split(energy_data.iloc[:, 0:], # Data \n",
    "                                                             test_size = 0.3,           # Size of test\n",
    "                                                             random_state = 20201107)   # Seed\n",
    "energy_rf.fit(energy_train_noWoE2.iloc[:,:-1], \n",
    "               energy_train_noWoE2['Appliances'])\n",
    "\n",
    "rf_pred_class_test2 = energy_rf.predict(energy_test_noWoE2.iloc[:, :-1])\n",
    "\n",
    "print(len(rf_pred_class_test2))\n",
    "print(len(energy_train_noWoE2['Appliances']))\n",
    "\n",
    "# Calculate the error over it\n",
    "# ExtrapolatedError = mean_absolute_percentage_error(y_true, y_pred)"
   ]
  },
  {
   "cell_type": "code",
   "execution_count": 54,
   "id": "comparative-attitude",
   "metadata": {},
   "outputs": [
    {
     "ename": "NameError",
     "evalue": "name 'TestError' is not defined",
     "output_type": "error",
     "traceback": [
      "\u001b[1;31m---------------------------------------------------------------------------\u001b[0m",
      "\u001b[1;31mNameError\u001b[0m                                 Traceback (most recent call last)",
      "\u001b[1;32m<ipython-input-54-8a45d87aa0fa>\u001b[0m in \u001b[0;36m<module>\u001b[1;34m\u001b[0m\n\u001b[0;32m      1\u001b[0m \u001b[1;31m# Print MAPE over the sets\u001b[0m\u001b[1;33m\u001b[0m\u001b[1;33m\u001b[0m\u001b[1;33m\u001b[0m\u001b[0m\n\u001b[1;32m----> 2\u001b[1;33m \u001b[0mprint\u001b[0m\u001b[1;33m(\u001b[0m\u001b[0mTestError\u001b[0m\u001b[1;33m)\u001b[0m\u001b[1;33m\u001b[0m\u001b[1;33m\u001b[0m\u001b[0m\n\u001b[0m\u001b[0;32m      3\u001b[0m \u001b[0mprint\u001b[0m\u001b[1;33m(\u001b[0m\u001b[0mExtrapolatedError\u001b[0m\u001b[1;33m)\u001b[0m\u001b[1;33m\u001b[0m\u001b[1;33m\u001b[0m\u001b[0m\n",
      "\u001b[1;31mNameError\u001b[0m: name 'TestError' is not defined"
     ]
    }
   ],
   "source": [
    "# Print MAPE over the sets\n",
    "print(TestError)\n",
    "print(ExtrapolatedError)"
   ]
  },
  {
   "cell_type": "code",
   "execution_count": 43,
   "id": "focused-battle",
   "metadata": {},
   "outputs": [
    {
     "ename": "ValueError",
     "evalue": "x and y must be the same size",
     "output_type": "error",
     "traceback": [
      "\u001b[1;31m---------------------------------------------------------------------------\u001b[0m",
      "\u001b[1;31mValueError\u001b[0m                                Traceback (most recent call last)",
      "\u001b[1;32m<ipython-input-43-cd2773582fd6>\u001b[0m in \u001b[0;36m<module>\u001b[1;34m\u001b[0m\n\u001b[0;32m      3\u001b[0m \u001b[1;31m# the extrapolation set (in the same plot), differentiating both by using different colors for the points\u001b[0m\u001b[1;33m\u001b[0m\u001b[1;33m\u001b[0m\u001b[1;33m\u001b[0m\u001b[0m\n\u001b[0;32m      4\u001b[0m \u001b[1;33m\u001b[0m\u001b[0m\n\u001b[1;32m----> 5\u001b[1;33m \u001b[0mplt\u001b[0m\u001b[1;33m.\u001b[0m\u001b[0mscatter\u001b[0m\u001b[1;33m(\u001b[0m\u001b[0mrf_pred_class_test\u001b[0m\u001b[1;33m,\u001b[0m\u001b[0my\u001b[0m\u001b[1;33m)\u001b[0m\u001b[1;33m\u001b[0m\u001b[1;33m\u001b[0m\u001b[0m\n\u001b[0m",
      "\u001b[1;32m~\\anaconda3\\lib\\site-packages\\matplotlib\\pyplot.py\u001b[0m in \u001b[0;36mscatter\u001b[1;34m(x, y, s, c, marker, cmap, norm, vmin, vmax, alpha, linewidths, verts, edgecolors, plotnonfinite, data, **kwargs)\u001b[0m\n\u001b[0;32m   2888\u001b[0m         \u001b[0mverts\u001b[0m\u001b[1;33m=\u001b[0m\u001b[0mcbook\u001b[0m\u001b[1;33m.\u001b[0m\u001b[0mdeprecation\u001b[0m\u001b[1;33m.\u001b[0m\u001b[0m_deprecated_parameter\u001b[0m\u001b[1;33m,\u001b[0m\u001b[1;33m\u001b[0m\u001b[1;33m\u001b[0m\u001b[0m\n\u001b[0;32m   2889\u001b[0m         edgecolors=None, *, plotnonfinite=False, data=None, **kwargs):\n\u001b[1;32m-> 2890\u001b[1;33m     __ret = gca().scatter(\n\u001b[0m\u001b[0;32m   2891\u001b[0m         \u001b[0mx\u001b[0m\u001b[1;33m,\u001b[0m \u001b[0my\u001b[0m\u001b[1;33m,\u001b[0m \u001b[0ms\u001b[0m\u001b[1;33m=\u001b[0m\u001b[0ms\u001b[0m\u001b[1;33m,\u001b[0m \u001b[0mc\u001b[0m\u001b[1;33m=\u001b[0m\u001b[0mc\u001b[0m\u001b[1;33m,\u001b[0m \u001b[0mmarker\u001b[0m\u001b[1;33m=\u001b[0m\u001b[0mmarker\u001b[0m\u001b[1;33m,\u001b[0m \u001b[0mcmap\u001b[0m\u001b[1;33m=\u001b[0m\u001b[0mcmap\u001b[0m\u001b[1;33m,\u001b[0m \u001b[0mnorm\u001b[0m\u001b[1;33m=\u001b[0m\u001b[0mnorm\u001b[0m\u001b[1;33m,\u001b[0m\u001b[1;33m\u001b[0m\u001b[1;33m\u001b[0m\u001b[0m\n\u001b[0;32m   2892\u001b[0m         \u001b[0mvmin\u001b[0m\u001b[1;33m=\u001b[0m\u001b[0mvmin\u001b[0m\u001b[1;33m,\u001b[0m \u001b[0mvmax\u001b[0m\u001b[1;33m=\u001b[0m\u001b[0mvmax\u001b[0m\u001b[1;33m,\u001b[0m \u001b[0malpha\u001b[0m\u001b[1;33m=\u001b[0m\u001b[0malpha\u001b[0m\u001b[1;33m,\u001b[0m \u001b[0mlinewidths\u001b[0m\u001b[1;33m=\u001b[0m\u001b[0mlinewidths\u001b[0m\u001b[1;33m,\u001b[0m\u001b[1;33m\u001b[0m\u001b[1;33m\u001b[0m\u001b[0m\n",
      "\u001b[1;32m~\\anaconda3\\lib\\site-packages\\matplotlib\\__init__.py\u001b[0m in \u001b[0;36minner\u001b[1;34m(ax, data, *args, **kwargs)\u001b[0m\n\u001b[0;32m   1445\u001b[0m     \u001b[1;32mdef\u001b[0m \u001b[0minner\u001b[0m\u001b[1;33m(\u001b[0m\u001b[0max\u001b[0m\u001b[1;33m,\u001b[0m \u001b[1;33m*\u001b[0m\u001b[0margs\u001b[0m\u001b[1;33m,\u001b[0m \u001b[0mdata\u001b[0m\u001b[1;33m=\u001b[0m\u001b[1;32mNone\u001b[0m\u001b[1;33m,\u001b[0m \u001b[1;33m**\u001b[0m\u001b[0mkwargs\u001b[0m\u001b[1;33m)\u001b[0m\u001b[1;33m:\u001b[0m\u001b[1;33m\u001b[0m\u001b[1;33m\u001b[0m\u001b[0m\n\u001b[0;32m   1446\u001b[0m         \u001b[1;32mif\u001b[0m \u001b[0mdata\u001b[0m \u001b[1;32mis\u001b[0m \u001b[1;32mNone\u001b[0m\u001b[1;33m:\u001b[0m\u001b[1;33m\u001b[0m\u001b[1;33m\u001b[0m\u001b[0m\n\u001b[1;32m-> 1447\u001b[1;33m             \u001b[1;32mreturn\u001b[0m \u001b[0mfunc\u001b[0m\u001b[1;33m(\u001b[0m\u001b[0max\u001b[0m\u001b[1;33m,\u001b[0m \u001b[1;33m*\u001b[0m\u001b[0mmap\u001b[0m\u001b[1;33m(\u001b[0m\u001b[0msanitize_sequence\u001b[0m\u001b[1;33m,\u001b[0m \u001b[0margs\u001b[0m\u001b[1;33m)\u001b[0m\u001b[1;33m,\u001b[0m \u001b[1;33m**\u001b[0m\u001b[0mkwargs\u001b[0m\u001b[1;33m)\u001b[0m\u001b[1;33m\u001b[0m\u001b[1;33m\u001b[0m\u001b[0m\n\u001b[0m\u001b[0;32m   1448\u001b[0m \u001b[1;33m\u001b[0m\u001b[0m\n\u001b[0;32m   1449\u001b[0m         \u001b[0mbound\u001b[0m \u001b[1;33m=\u001b[0m \u001b[0mnew_sig\u001b[0m\u001b[1;33m.\u001b[0m\u001b[0mbind\u001b[0m\u001b[1;33m(\u001b[0m\u001b[0max\u001b[0m\u001b[1;33m,\u001b[0m \u001b[1;33m*\u001b[0m\u001b[0margs\u001b[0m\u001b[1;33m,\u001b[0m \u001b[1;33m**\u001b[0m\u001b[0mkwargs\u001b[0m\u001b[1;33m)\u001b[0m\u001b[1;33m\u001b[0m\u001b[1;33m\u001b[0m\u001b[0m\n",
      "\u001b[1;32m~\\anaconda3\\lib\\site-packages\\matplotlib\\cbook\\deprecation.py\u001b[0m in \u001b[0;36mwrapper\u001b[1;34m(*inner_args, **inner_kwargs)\u001b[0m\n\u001b[0;32m    409\u001b[0m                          \u001b[1;32melse\u001b[0m \u001b[0mdeprecation_addendum\u001b[0m\u001b[1;33m,\u001b[0m\u001b[1;33m\u001b[0m\u001b[1;33m\u001b[0m\u001b[0m\n\u001b[0;32m    410\u001b[0m                 **kwargs)\n\u001b[1;32m--> 411\u001b[1;33m         \u001b[1;32mreturn\u001b[0m \u001b[0mfunc\u001b[0m\u001b[1;33m(\u001b[0m\u001b[1;33m*\u001b[0m\u001b[0minner_args\u001b[0m\u001b[1;33m,\u001b[0m \u001b[1;33m**\u001b[0m\u001b[0minner_kwargs\u001b[0m\u001b[1;33m)\u001b[0m\u001b[1;33m\u001b[0m\u001b[1;33m\u001b[0m\u001b[0m\n\u001b[0m\u001b[0;32m    412\u001b[0m \u001b[1;33m\u001b[0m\u001b[0m\n\u001b[0;32m    413\u001b[0m     \u001b[1;32mreturn\u001b[0m \u001b[0mwrapper\u001b[0m\u001b[1;33m\u001b[0m\u001b[1;33m\u001b[0m\u001b[0m\n",
      "\u001b[1;32m~\\anaconda3\\lib\\site-packages\\matplotlib\\axes\\_axes.py\u001b[0m in \u001b[0;36mscatter\u001b[1;34m(self, x, y, s, c, marker, cmap, norm, vmin, vmax, alpha, linewidths, verts, edgecolors, plotnonfinite, **kwargs)\u001b[0m\n\u001b[0;32m   4439\u001b[0m         \u001b[0my\u001b[0m \u001b[1;33m=\u001b[0m \u001b[0mnp\u001b[0m\u001b[1;33m.\u001b[0m\u001b[0mma\u001b[0m\u001b[1;33m.\u001b[0m\u001b[0mravel\u001b[0m\u001b[1;33m(\u001b[0m\u001b[0my\u001b[0m\u001b[1;33m)\u001b[0m\u001b[1;33m\u001b[0m\u001b[1;33m\u001b[0m\u001b[0m\n\u001b[0;32m   4440\u001b[0m         \u001b[1;32mif\u001b[0m \u001b[0mx\u001b[0m\u001b[1;33m.\u001b[0m\u001b[0msize\u001b[0m \u001b[1;33m!=\u001b[0m \u001b[0my\u001b[0m\u001b[1;33m.\u001b[0m\u001b[0msize\u001b[0m\u001b[1;33m:\u001b[0m\u001b[1;33m\u001b[0m\u001b[1;33m\u001b[0m\u001b[0m\n\u001b[1;32m-> 4441\u001b[1;33m             \u001b[1;32mraise\u001b[0m \u001b[0mValueError\u001b[0m\u001b[1;33m(\u001b[0m\u001b[1;34m\"x and y must be the same size\"\u001b[0m\u001b[1;33m)\u001b[0m\u001b[1;33m\u001b[0m\u001b[1;33m\u001b[0m\u001b[0m\n\u001b[0m\u001b[0;32m   4442\u001b[0m \u001b[1;33m\u001b[0m\u001b[0m\n\u001b[0;32m   4443\u001b[0m         \u001b[1;32mif\u001b[0m \u001b[0ms\u001b[0m \u001b[1;32mis\u001b[0m \u001b[1;32mNone\u001b[0m\u001b[1;33m:\u001b[0m\u001b[1;33m\u001b[0m\u001b[1;33m\u001b[0m\u001b[0m\n",
      "\u001b[1;31mValueError\u001b[0m: x and y must be the same size"
     ]
    },
    {
     "data": {
      "image/png": "[encoded data removed]",
      "text/plain": [
       "<Figure size 432x288 with 1 Axes>"
      ]
     },
     "metadata": {
      "needs_background": "light"
     },
     "output_type": "display_data"
    }
   ],
   "source": [
    "# Make the scatterplot\n",
    "# Show in a scatterplot the predicted value vs the real value of the target variable for both the test set and \n",
    "# the extrapolation set (in the same plot), differentiating both by using different colors for the points\n",
    "\n",
    "plt.scatter(rf_pred_class_test,y)"
   ]
  },
  {
   "cell_type": "markdown",
   "id": "pleasant-parallel",
   "metadata": {},
   "source": [
    "**Written answer: **\n",
    "How does the random forest model perform on predicting Appliance energy usage in the extrapolation data set? If it performs poorly, why? If it performs well, why? \n",
    "\n",
    "The model performs poory because it can't extrapolate the linear trend and accurately predict new examples that have a value higher than the training data.\n"
   ]
  },
  {
   "cell_type": "markdown",
   "id": "cooked-hamburg",
   "metadata": {},
   "source": [
    "## Task 2: XGBoosting model (40 pts)\n",
    "\n",
    "Now we'll repeat the process for the XGB model, using an [```XGBRegressor``` object](https://xgboost.readthedocs.io/en/latest/python/python_api.html). The XGBoosting model is much more sensitive to parameter changes though as it allows to tune many different parameters. For this example:\n",
    "\n",
    "1. Written answer: Why do we say we want to use a small learning rate? Why do we say the number of trees to use depends on each dataset/problem? Why do we want to use a small tree depth? (6 pts)\n",
    "\n",
    "2. Selecting a 30% validation sample over the training set, tune your parameters using crossvalidation. Use the following ranges:\n",
    " - Learning rate: [0.01, 0.1, 0.2].\n",
    " - max_depth: 3 to 7.\n",
    " - Number of trees: [350, 400, 450, 500]\n",
    "\n",
    "Leave the other parameters at the values we identified in the lab (except for the objective parameter and those related to classification problems) and use a seed of 20201107. Report the optimal values of your parameters. (20 pts)\n",
    "\n",
    "3. Repeat part 4 of the previous task, but now for your XGB model trained over the optimal parameter combination and the complete training dataset. Plot the variable importance. Written answer: What are the most important variables? Can the XGB model extrapolate? How does it compare to a random forest? (14 pts)"
   ]
  },
  {
   "cell_type": "markdown",
   "id": "separate-industry",
   "metadata": {},
   "source": [
    "**Written answer part 1 (2 pts each):**\n",
    "\n",
    "Why do we say we want to use a small learning rate?\n",
    "\n",
    "By using a smaller learning rate it will allow the model to learn a more optimal set of weights but can take much longer to train\n",
    "\n",
    "Why do we say the number of trees to use depends on each dataset/problem?\n",
    "\n",
    "The number of trees is dependant on each dataset/problem because generally more trees you use the better get the results but the improvement decreases as the number of trees increases and thus will take it longer to train which can be very costly for larger datasets.\n",
    "\n",
    "Why do we want to use a small tree depth?\n",
    "\n",
    "We want to use a small tree depth because short trees are very simple and general making binary decisions easy to understand"
   ]
  },
  {
   "cell_type": "code",
   "execution_count": 15,
   "id": "psychological-twist",
   "metadata": {},
   "outputs": [],
   "source": [
    "# Define the XGB model\n",
    "XGB_Energy = XGBRegressor(max_depth=[3,4,5,6,7],                 # Depth of each tree\n",
    "                            learning_rate=[0.01, 0.1, 0.2],            # How much to shrink error in each subsequent training. Trade-off with no. estimators.\n",
    "                            n_estimators=[350, 400, 450, 500],             # How many trees to use, the more the better, but decrease learning rate if many used.\n",
    "                            verbosity=1,                  # If to show more errors or not.\n",
    "                            objective='binary:logistic',  # Type of target variable.\n",
    "                            booster='gbtree',             # What to boost. Trees in this case.\n",
    "                            n_jobs=2,                     # Parallel jobs to run. Set your processor number.\n",
    "                            gamma=0.001,                  # Minimum loss reduction required to make a further partition on a leaf node of the tree. (Controls growth!)\n",
    "                            subsample=1,                  # Subsample ratio. Can set lower\n",
    "                            colsample_bytree=1,           # Subsample ratio of columns when constructing each tree.\n",
    "                            colsample_bylevel=1,          # Subsample ratio of columns when constructing each level. 0.33 is similar to random forest.\n",
    "                            colsample_bynode=1,           # Subsample ratio of columns when constructing each split.\n",
    "                            reg_alpha=1,                  # Regularizer for first fit. alpha = 1, lambda = 0 is LASSO.\n",
    "                            reg_lambda=0,                 # Regularizer for first fit.\n",
    "                            scale_pos_weight=1,           # Balancing of positive and negative weights.\n",
    "                            base_score=0.5,               # Global bias. Set to average of the target rate.\n",
    "                            random_state=20201107,        # Seed\n",
    "                            missing=None                  # How are nulls encoded?\n",
    "                            )"
   ]
  },
  {
   "cell_type": "code",
   "execution_count": 16,
   "id": "simple-traveler",
   "metadata": {},
   "outputs": [],
   "source": [
    "# Define the parameter grid.\n",
    "param_grid = dict({'n_estimators': [350, 400, 450, 500],\n",
    "                   'max_depth': [3,4,5,6,7],\n",
    "                 'learning_rate' : [0.01, 0.1, 0.2]\n",
    "                  })"
   ]
  },
  {
   "cell_type": "code",
   "execution_count": 95,
   "id": "protective-reader",
   "metadata": {},
   "outputs": [],
   "source": [
    "# Create reduced validation set.\n",
    "val_train = energy_train_noWoE.sample(frac = 0.3,               # The fraction to extract\n",
    "                                       random_state = 20201107    # The seed.\n",
    "                                       )"
   ]
  },
  {
   "cell_type": "code",
   "execution_count": 96,
   "id": "irish-marking",
   "metadata": {},
   "outputs": [
    {
     "name": "stdout",
     "output_type": "stream",
     "text": [
      "Fitting 3 folds for each of 60 candidates, totalling 180 fits\n"
     ]
    },
    {
     "name": "stderr",
     "output_type": "stream",
     "text": [
      "C:\\Users\\gerri\\anaconda3\\lib\\site-packages\\sklearn\\model_selection\\_search.py:918: UserWarning: One or more of the test scores are non-finite: [nan nan nan nan nan nan nan nan nan nan nan nan nan nan nan nan nan nan\n",
      " nan nan nan nan nan nan nan nan nan nan nan nan nan nan nan nan nan nan\n",
      " nan nan nan nan nan nan nan nan nan nan nan nan nan nan nan nan nan nan\n",
      " nan nan nan nan nan nan]\n",
      "  warnings.warn(\n"
     ]
    },
    {
     "data": {
      "text/plain": [
       "GridSearchCV(cv=3,\n",
       "             estimator=XGBRegressor(base_score=0.5, booster='gbtree',\n",
       "                                    colsample_bylevel=1, colsample_bynode=1,\n",
       "                                    colsample_bytree=1, gamma=0.001,\n",
       "                                    gpu_id=None, importance_type='gain',\n",
       "                                    interaction_constraints=None,\n",
       "                                    learning_rate=0.01, max_delta_step=None,\n",
       "                                    max_depth=3, min_child_weight=None,\n",
       "                                    missing=None, monotone_constraints=None,\n",
       "                                    n_estimators=350, n_jobs=2,\n",
       "                                    num_parallel_tree=None,\n",
       "                                    objective='binary:logistic',\n",
       "                                    random_state=20201107, reg_alpha=1,\n",
       "                                    reg_lambda=0, scale_pos_weight=1,\n",
       "                                    subsample=1, tree_method=None,\n",
       "                                    validate_parameters=None, verbosity=1),\n",
       "             n_jobs=-1,\n",
       "             param_grid={'learning_rate': [0.01, 0.1, 0.2],\n",
       "                         'max_depth': [3, 4, 5, 6, 7],\n",
       "                         'n_estimators': [350, 400, 450, 500]},\n",
       "             refit=False, scoring='roc_auc', verbose=1)"
      ]
     },
     "execution_count": 96,
     "metadata": {},
     "output_type": "execute_result"
    }
   ],
   "source": [
    "# Train grid search. This takes a while! Go grab a coffee.\n",
    "GridXGB = GridSearchCV(XGB_Energy,        # Original XGB. \n",
    "                       param_grid,          # Parameter grid\n",
    "                       cv = 3,              # Number of cross-validation folds.  \n",
    "                       scoring = 'roc_auc', # How to rank outputs.\n",
    "                       n_jobs = -1,         # Parallel jobs. -1 is \"all you have\"\n",
    "                       refit = False,       # If refit at the end with the best. We'll do it manually.\n",
    "                       verbose = 1          # If to show what it is doing.\n",
    "                      )\n",
    "\n",
    "GridXGB.fit(val_train.iloc[:, :0], val_train['Appliances'])"
   ]
  },
  {
   "cell_type": "code",
   "execution_count": 97,
   "id": "miniature-renewal",
   "metadata": {},
   "outputs": [
    {
     "data": {
      "text/plain": [
       "{'learning_rate': 0.01, 'max_depth': 3, 'n_estimators': 350}"
      ]
     },
     "execution_count": 97,
     "metadata": {},
     "output_type": "execute_result"
    }
   ],
   "source": [
    "# Show best params\n",
    "GridXGB.best_params_"
   ]
  },
  {
   "cell_type": "code",
   "execution_count": 45,
   "id": "structured-latitude",
   "metadata": {},
   "outputs": [
    {
     "name": "stdout",
     "output_type": "stream",
     "text": [
      "XGBRegressor(base_score=0.5, booster='gbtree', colsample_bylevel=1,\n",
      "             colsample_bynode=1, colsample_bytree=1, gamma=0.001, gpu_id=None,\n",
      "             importance_type='gain', interaction_constraints=None,\n",
      "             learning_rate=0.01, max_delta_step=None, max_depth=3,\n",
      "             min_child_weight=None, missing=None, monotone_constraints=None,\n",
      "             n_estimators=350, n_jobs=2, num_parallel_tree=None,\n",
      "             objective='binary:logistic', random_state=20201107, reg_alpha=1,\n",
      "             reg_lambda=0, scale_pos_weight=1, subsample=1, tree_method=None,\n",
      "             validate_parameters=None, verbosity=1)\n"
     ]
    },
    {
     "ename": "XGBoostError",
     "evalue": "[19:48:02] d:\\bld\\xgboost-split_1615294821523\\work\\src\\objective\\regression_obj.cu:102: label must be in [0,1] for logistic regression",
     "output_type": "error",
     "traceback": [
      "\u001b[1;31m---------------------------------------------------------------------------\u001b[0m",
      "\u001b[1;31mXGBoostError\u001b[0m                              Traceback (most recent call last)",
      "\u001b[1;32m<ipython-input-45-5329c43ff7d9>\u001b[0m in \u001b[0;36m<module>\u001b[1;34m\u001b[0m\n\u001b[0;32m     21\u001b[0m \u001b[0mprint\u001b[0m\u001b[1;33m(\u001b[0m\u001b[0mXGB_Energy\u001b[0m\u001b[1;33m)\u001b[0m\u001b[1;33m\u001b[0m\u001b[1;33m\u001b[0m\u001b[0m\n\u001b[0;32m     22\u001b[0m \u001b[1;33m\u001b[0m\u001b[0m\n\u001b[1;32m---> 23\u001b[1;33m XGB_Energy.fit(energy_train_noWoE, \n\u001b[0m\u001b[0;32m     24\u001b[0m                energy_train_noWoE['Appliances'])\n",
      "\u001b[1;32m~\\anaconda3\\lib\\site-packages\\xgboost\\core.py\u001b[0m in \u001b[0;36minner_f\u001b[1;34m(*args, **kwargs)\u001b[0m\n\u001b[0;32m    420\u001b[0m         \u001b[1;32mfor\u001b[0m \u001b[0mk\u001b[0m\u001b[1;33m,\u001b[0m \u001b[0marg\u001b[0m \u001b[1;32min\u001b[0m \u001b[0mzip\u001b[0m\u001b[1;33m(\u001b[0m\u001b[0msig\u001b[0m\u001b[1;33m.\u001b[0m\u001b[0mparameters\u001b[0m\u001b[1;33m,\u001b[0m \u001b[0margs\u001b[0m\u001b[1;33m)\u001b[0m\u001b[1;33m:\u001b[0m\u001b[1;33m\u001b[0m\u001b[1;33m\u001b[0m\u001b[0m\n\u001b[0;32m    421\u001b[0m             \u001b[0mkwargs\u001b[0m\u001b[1;33m[\u001b[0m\u001b[0mk\u001b[0m\u001b[1;33m]\u001b[0m \u001b[1;33m=\u001b[0m \u001b[0marg\u001b[0m\u001b[1;33m\u001b[0m\u001b[1;33m\u001b[0m\u001b[0m\n\u001b[1;32m--> 422\u001b[1;33m         \u001b[1;32mreturn\u001b[0m \u001b[0mf\u001b[0m\u001b[1;33m(\u001b[0m\u001b[1;33m**\u001b[0m\u001b[0mkwargs\u001b[0m\u001b[1;33m)\u001b[0m\u001b[1;33m\u001b[0m\u001b[1;33m\u001b[0m\u001b[0m\n\u001b[0m\u001b[0;32m    423\u001b[0m \u001b[1;33m\u001b[0m\u001b[0m\n\u001b[0;32m    424\u001b[0m     \u001b[1;32mreturn\u001b[0m \u001b[0minner_f\u001b[0m\u001b[1;33m\u001b[0m\u001b[1;33m\u001b[0m\u001b[0m\n",
      "\u001b[1;32m~\\anaconda3\\lib\\site-packages\\xgboost\\sklearn.py\u001b[0m in \u001b[0;36mfit\u001b[1;34m(self, X, y, sample_weight, base_margin, eval_set, eval_metric, early_stopping_rounds, verbose, xgb_model, sample_weight_eval_set, feature_weights, callbacks)\u001b[0m\n\u001b[0;32m    595\u001b[0m                 \u001b[0mparams\u001b[0m\u001b[1;33m.\u001b[0m\u001b[0mupdate\u001b[0m\u001b[1;33m(\u001b[0m\u001b[1;33m{\u001b[0m\u001b[1;34m'eval_metric'\u001b[0m\u001b[1;33m:\u001b[0m \u001b[0meval_metric\u001b[0m\u001b[1;33m}\u001b[0m\u001b[1;33m)\u001b[0m\u001b[1;33m\u001b[0m\u001b[1;33m\u001b[0m\u001b[0m\n\u001b[0;32m    596\u001b[0m \u001b[1;33m\u001b[0m\u001b[0m\n\u001b[1;32m--> 597\u001b[1;33m         self._Booster = train(params, train_dmatrix,\n\u001b[0m\u001b[0;32m    598\u001b[0m                               \u001b[0mself\u001b[0m\u001b[1;33m.\u001b[0m\u001b[0mget_num_boosting_rounds\u001b[0m\u001b[1;33m(\u001b[0m\u001b[1;33m)\u001b[0m\u001b[1;33m,\u001b[0m \u001b[0mevals\u001b[0m\u001b[1;33m=\u001b[0m\u001b[0mevals\u001b[0m\u001b[1;33m,\u001b[0m\u001b[1;33m\u001b[0m\u001b[1;33m\u001b[0m\u001b[0m\n\u001b[0;32m    599\u001b[0m                               \u001b[0mearly_stopping_rounds\u001b[0m\u001b[1;33m=\u001b[0m\u001b[0mearly_stopping_rounds\u001b[0m\u001b[1;33m,\u001b[0m\u001b[1;33m\u001b[0m\u001b[1;33m\u001b[0m\u001b[0m\n",
      "\u001b[1;32m~\\anaconda3\\lib\\site-packages\\xgboost\\training.py\u001b[0m in \u001b[0;36mtrain\u001b[1;34m(params, dtrain, num_boost_round, evals, obj, feval, maximize, early_stopping_rounds, evals_result, verbose_eval, xgb_model, callbacks)\u001b[0m\n\u001b[0;32m    225\u001b[0m     \u001b[0mBooster\u001b[0m \u001b[1;33m:\u001b[0m \u001b[0ma\u001b[0m \u001b[0mtrained\u001b[0m \u001b[0mbooster\u001b[0m \u001b[0mmodel\u001b[0m\u001b[1;33m\u001b[0m\u001b[1;33m\u001b[0m\u001b[0m\n\u001b[0;32m    226\u001b[0m     \"\"\"\n\u001b[1;32m--> 227\u001b[1;33m     bst = _train_internal(params, dtrain,\n\u001b[0m\u001b[0;32m    228\u001b[0m                           \u001b[0mnum_boost_round\u001b[0m\u001b[1;33m=\u001b[0m\u001b[0mnum_boost_round\u001b[0m\u001b[1;33m,\u001b[0m\u001b[1;33m\u001b[0m\u001b[1;33m\u001b[0m\u001b[0m\n\u001b[0;32m    229\u001b[0m                           \u001b[0mevals\u001b[0m\u001b[1;33m=\u001b[0m\u001b[0mevals\u001b[0m\u001b[1;33m,\u001b[0m\u001b[1;33m\u001b[0m\u001b[1;33m\u001b[0m\u001b[0m\n",
      "\u001b[1;32m~\\anaconda3\\lib\\site-packages\\xgboost\\training.py\u001b[0m in \u001b[0;36m_train_internal\u001b[1;34m(params, dtrain, num_boost_round, evals, obj, feval, xgb_model, callbacks, evals_result, maximize, verbose_eval, early_stopping_rounds)\u001b[0m\n\u001b[0;32m    100\u001b[0m         \u001b[1;31m# Skip the first update if it is a recovery step.\u001b[0m\u001b[1;33m\u001b[0m\u001b[1;33m\u001b[0m\u001b[1;33m\u001b[0m\u001b[0m\n\u001b[0;32m    101\u001b[0m         \u001b[1;32mif\u001b[0m \u001b[0mversion\u001b[0m \u001b[1;33m%\u001b[0m \u001b[1;36m2\u001b[0m \u001b[1;33m==\u001b[0m \u001b[1;36m0\u001b[0m\u001b[1;33m:\u001b[0m\u001b[1;33m\u001b[0m\u001b[1;33m\u001b[0m\u001b[0m\n\u001b[1;32m--> 102\u001b[1;33m             \u001b[0mbst\u001b[0m\u001b[1;33m.\u001b[0m\u001b[0mupdate\u001b[0m\u001b[1;33m(\u001b[0m\u001b[0mdtrain\u001b[0m\u001b[1;33m,\u001b[0m \u001b[0mi\u001b[0m\u001b[1;33m,\u001b[0m \u001b[0mobj\u001b[0m\u001b[1;33m)\u001b[0m\u001b[1;33m\u001b[0m\u001b[1;33m\u001b[0m\u001b[0m\n\u001b[0m\u001b[0;32m    103\u001b[0m             \u001b[0mbst\u001b[0m\u001b[1;33m.\u001b[0m\u001b[0msave_rabit_checkpoint\u001b[0m\u001b[1;33m(\u001b[0m\u001b[1;33m)\u001b[0m\u001b[1;33m\u001b[0m\u001b[1;33m\u001b[0m\u001b[0m\n\u001b[0;32m    104\u001b[0m             \u001b[0mversion\u001b[0m \u001b[1;33m+=\u001b[0m \u001b[1;36m1\u001b[0m\u001b[1;33m\u001b[0m\u001b[1;33m\u001b[0m\u001b[0m\n",
      "\u001b[1;32m~\\anaconda3\\lib\\site-packages\\xgboost\\core.py\u001b[0m in \u001b[0;36mupdate\u001b[1;34m(self, dtrain, iteration, fobj)\u001b[0m\n\u001b[0;32m   1278\u001b[0m \u001b[1;33m\u001b[0m\u001b[0m\n\u001b[0;32m   1279\u001b[0m         \u001b[1;32mif\u001b[0m \u001b[0mfobj\u001b[0m \u001b[1;32mis\u001b[0m \u001b[1;32mNone\u001b[0m\u001b[1;33m:\u001b[0m\u001b[1;33m\u001b[0m\u001b[1;33m\u001b[0m\u001b[0m\n\u001b[1;32m-> 1280\u001b[1;33m             _check_call(_LIB.XGBoosterUpdateOneIter(self.handle,\n\u001b[0m\u001b[0;32m   1281\u001b[0m                                                     \u001b[0mctypes\u001b[0m\u001b[1;33m.\u001b[0m\u001b[0mc_int\u001b[0m\u001b[1;33m(\u001b[0m\u001b[0miteration\u001b[0m\u001b[1;33m)\u001b[0m\u001b[1;33m,\u001b[0m\u001b[1;33m\u001b[0m\u001b[1;33m\u001b[0m\u001b[0m\n\u001b[0;32m   1282\u001b[0m                                                     dtrain.handle))\n",
      "\u001b[1;32m~\\anaconda3\\lib\\site-packages\\xgboost\\core.py\u001b[0m in \u001b[0;36m_check_call\u001b[1;34m(ret)\u001b[0m\n\u001b[0;32m    187\u001b[0m     \"\"\"\n\u001b[0;32m    188\u001b[0m     \u001b[1;32mif\u001b[0m \u001b[0mret\u001b[0m \u001b[1;33m!=\u001b[0m \u001b[1;36m0\u001b[0m\u001b[1;33m:\u001b[0m\u001b[1;33m\u001b[0m\u001b[1;33m\u001b[0m\u001b[0m\n\u001b[1;32m--> 189\u001b[1;33m         \u001b[1;32mraise\u001b[0m \u001b[0mXGBoostError\u001b[0m\u001b[1;33m(\u001b[0m\u001b[0mpy_str\u001b[0m\u001b[1;33m(\u001b[0m\u001b[0m_LIB\u001b[0m\u001b[1;33m.\u001b[0m\u001b[0mXGBGetLastError\u001b[0m\u001b[1;33m(\u001b[0m\u001b[1;33m)\u001b[0m\u001b[1;33m)\u001b[0m\u001b[1;33m)\u001b[0m\u001b[1;33m\u001b[0m\u001b[1;33m\u001b[0m\u001b[0m\n\u001b[0m\u001b[0;32m    190\u001b[0m \u001b[1;33m\u001b[0m\u001b[0m\n\u001b[0;32m    191\u001b[0m \u001b[1;33m\u001b[0m\u001b[0m\n",
      "\u001b[1;31mXGBoostError\u001b[0m: [19:48:02] d:\\bld\\xgboost-split_1615294821523\\work\\src\\objective\\regression_obj.cu:102: label must be in [0,1] for logistic regression"
     ]
    }
   ],
   "source": [
    "# Train final XGB with optimal parameters\n",
    "XGB_Energy = XGBRegressor(max_depth=GridXGB.best_params_.get('max_depth'), # Depth of each tree\n",
    "                            learning_rate=GridXGB.best_params_.get('learning_rate'), # How much to shrink error in each subsequent training. Trade-off with no. estimators.\n",
    "                            n_estimators=GridXGB.best_params_.get('n_estimators'), # How many trees to use, the more the better, but decrease learning rate if many used.\n",
    "                            verbosity=1,                  # If to show more errors or not.\n",
    "                            objective='binary:logistic',  # Type of target variable.\n",
    "                            booster='gbtree',             # What to boost. Trees in this case.\n",
    "                            n_jobs=2,                     # Parallel jobs to run. Set your processor number.\n",
    "                            gamma=0.001,                  # Minimum loss reduction required to make a further partition on a leaf node of the tree. (Controls growth!)\n",
    "                            subsample=1,                  # Subsample ratio. Can set lower\n",
    "                            colsample_bytree=1,           # Subsample ratio of columns when constructing each tree.\n",
    "                            colsample_bylevel=1,          # Subsample ratio of columns when constructing each level. 0.33 is similar to random forest.\n",
    "                            colsample_bynode=1,           # Subsample ratio of columns when constructing each split.\n",
    "                            reg_alpha=1,                  # Regularizer for first fit. alpha = 1, lambda = 0 is LASSO.\n",
    "                            reg_lambda=0,                 # Regularizer for first fit.\n",
    "                            scale_pos_weight=1,           # Balancing of positive and negative weights.\n",
    "                            base_score=0.5,               # Global bias. Set to average of the target rate.\n",
    "                            random_state=20201107,        # Seed\n",
    "                            missing=None                  # How are nulls encoded?\n",
    "                            )\n",
    "print(XGB_Energy)\n",
    "\n",
    "XGB_Energy.fit(energy_train_noWoE, \n",
    "               energy_train_noWoE['Appliances'])\n"
   ]
  },
  {
   "cell_type": "code",
   "execution_count": 98,
   "id": "alleged-edward",
   "metadata": {},
   "outputs": [
    {
     "ename": "NotFittedError",
     "evalue": "need to call fit or load_model beforehand",
     "output_type": "error",
     "traceback": [
      "\u001b[1;31m---------------------------------------------------------------------------\u001b[0m",
      "\u001b[1;31mNotFittedError\u001b[0m                            Traceback (most recent call last)",
      "\u001b[1;32m<ipython-input-98-8c8093a9fdfd>\u001b[0m in \u001b[0;36m<module>\u001b[1;34m\u001b[0m\n\u001b[0;32m      1\u001b[0m \u001b[1;31m# Variable importance\u001b[0m\u001b[1;33m\u001b[0m\u001b[1;33m\u001b[0m\u001b[1;33m\u001b[0m\u001b[0m\n\u001b[1;32m----> 2\u001b[1;33m \u001b[0mimportances\u001b[0m \u001b[1;33m=\u001b[0m \u001b[0mXGB_Energy\u001b[0m\u001b[1;33m.\u001b[0m\u001b[0mfeature_importances_\u001b[0m\u001b[1;33m\u001b[0m\u001b[1;33m\u001b[0m\u001b[0m\n\u001b[0m\u001b[0;32m      3\u001b[0m \u001b[0mprint\u001b[0m\u001b[1;33m(\u001b[0m\u001b[0mimportances\u001b[0m\u001b[1;33m)\u001b[0m\u001b[1;33m\u001b[0m\u001b[1;33m\u001b[0m\u001b[0m\n",
      "\u001b[1;32m~\\anaconda3\\lib\\site-packages\\xgboost\\sklearn.py\u001b[0m in \u001b[0;36mfeature_importances_\u001b[1;34m(self)\u001b[0m\n\u001b[0;32m    739\u001b[0m                 \u001b[1;34m'Feature importance is not defined for Booster type {}'\u001b[0m\u001b[1;33m\u001b[0m\u001b[1;33m\u001b[0m\u001b[0m\n\u001b[0;32m    740\u001b[0m                 .format(self.booster))\n\u001b[1;32m--> 741\u001b[1;33m         \u001b[0mb\u001b[0m \u001b[1;33m=\u001b[0m \u001b[0mself\u001b[0m\u001b[1;33m.\u001b[0m\u001b[0mget_booster\u001b[0m\u001b[1;33m(\u001b[0m\u001b[1;33m)\u001b[0m\u001b[1;33m\u001b[0m\u001b[1;33m\u001b[0m\u001b[0m\n\u001b[0m\u001b[0;32m    742\u001b[0m         \u001b[0mscore\u001b[0m \u001b[1;33m=\u001b[0m \u001b[0mb\u001b[0m\u001b[1;33m.\u001b[0m\u001b[0mget_score\u001b[0m\u001b[1;33m(\u001b[0m\u001b[0mimportance_type\u001b[0m\u001b[1;33m=\u001b[0m\u001b[0mself\u001b[0m\u001b[1;33m.\u001b[0m\u001b[0mimportance_type\u001b[0m\u001b[1;33m)\u001b[0m\u001b[1;33m\u001b[0m\u001b[1;33m\u001b[0m\u001b[0m\n\u001b[0;32m    743\u001b[0m         \u001b[0mall_features\u001b[0m \u001b[1;33m=\u001b[0m \u001b[1;33m[\u001b[0m\u001b[0mscore\u001b[0m\u001b[1;33m.\u001b[0m\u001b[0mget\u001b[0m\u001b[1;33m(\u001b[0m\u001b[0mf\u001b[0m\u001b[1;33m,\u001b[0m \u001b[1;36m0.\u001b[0m\u001b[1;33m)\u001b[0m \u001b[1;32mfor\u001b[0m \u001b[0mf\u001b[0m \u001b[1;32min\u001b[0m \u001b[0mb\u001b[0m\u001b[1;33m.\u001b[0m\u001b[0mfeature_names\u001b[0m\u001b[1;33m]\u001b[0m\u001b[1;33m\u001b[0m\u001b[1;33m\u001b[0m\u001b[0m\n",
      "\u001b[1;32m~\\anaconda3\\lib\\site-packages\\xgboost\\sklearn.py\u001b[0m in \u001b[0;36mget_booster\u001b[1;34m(self)\u001b[0m\n\u001b[0;32m    310\u001b[0m         \u001b[1;32mif\u001b[0m \u001b[1;32mnot\u001b[0m \u001b[0mhasattr\u001b[0m\u001b[1;33m(\u001b[0m\u001b[0mself\u001b[0m\u001b[1;33m,\u001b[0m \u001b[1;34m'_Booster'\u001b[0m\u001b[1;33m)\u001b[0m\u001b[1;33m:\u001b[0m\u001b[1;33m\u001b[0m\u001b[1;33m\u001b[0m\u001b[0m\n\u001b[0;32m    311\u001b[0m             \u001b[1;32mfrom\u001b[0m \u001b[0msklearn\u001b[0m\u001b[1;33m.\u001b[0m\u001b[0mexceptions\u001b[0m \u001b[1;32mimport\u001b[0m \u001b[0mNotFittedError\u001b[0m\u001b[1;33m\u001b[0m\u001b[1;33m\u001b[0m\u001b[0m\n\u001b[1;32m--> 312\u001b[1;33m             \u001b[1;32mraise\u001b[0m \u001b[0mNotFittedError\u001b[0m\u001b[1;33m(\u001b[0m\u001b[1;34m'need to call fit or load_model beforehand'\u001b[0m\u001b[1;33m)\u001b[0m\u001b[1;33m\u001b[0m\u001b[1;33m\u001b[0m\u001b[0m\n\u001b[0m\u001b[0;32m    313\u001b[0m         \u001b[1;32mreturn\u001b[0m \u001b[0mself\u001b[0m\u001b[1;33m.\u001b[0m\u001b[0m_Booster\u001b[0m\u001b[1;33m\u001b[0m\u001b[1;33m\u001b[0m\u001b[0m\n\u001b[0;32m    314\u001b[0m \u001b[1;33m\u001b[0m\u001b[0m\n",
      "\u001b[1;31mNotFittedError\u001b[0m: need to call fit or load_model beforehand"
     ]
    }
   ],
   "source": [
    "# Variable importance\n",
    "importances = XGB_Energy.feature_importances_\n",
    "print(importances)"
   ]
  },
  {
   "cell_type": "markdown",
   "id": "personalized-equity",
   "metadata": {},
   "source": [
    "**Written answer:**"
   ]
  },
  {
   "cell_type": "code",
   "execution_count": 102,
   "id": "complimentary-missouri",
   "metadata": {},
   "outputs": [
    {
     "data": {
      "image/png": "[encoded data removed]",
      "text/plain": [
       "<Figure size 216x576 with 1 Axes>"
      ]
     },
     "metadata": {
      "needs_background": "light"
     },
     "output_type": "display_data"
    }
   ],
   "source": [
    "# Make scatterplot\n",
    "# Plot variable importance\n",
    "indices = np.argsort(importances)[::-1] \n",
    "\n",
    "f, ax = plt.subplots(figsize=(3, 8))\n",
    "plt.title(\"Variable Importance - XGB\")\n",
    "sns.set_color_codes(\"pastel\")\n",
    "sns.barplot(y=[energy_train_noWoE.iloc[:, :-1].columns[i] for i in indices], x=importances[indices], \n",
    "            label=\"Total\", color=\"b\")\n",
    "ax.set(ylabel=\"Variable\",\n",
    "       xlabel=\"Variable Importance (Gini)\")\n",
    "sns.despine(left=True, bottom=True)"
   ]
  },
  {
   "cell_type": "markdown",
   "id": "deadly-japanese",
   "metadata": {},
   "source": [
    "**Written answer: **\n",
    "\n",
    "What are the most important variables? \n",
    "\n",
    "Appliances\n",
    "\n",
    "Can the XGB model extrapolate?\n",
    "\n",
    "XGB are unable to extrapolate values beyond the limits of the training data when making predictions\n",
    "\n",
    "\n",
    "How does it compare to a random forest?\n",
    "\n",
    "Random Forest is a bagging algorithm and it reduces variance. Where as XGB is reducing variance, and also bias."
   ]
  },
  {
   "cell_type": "markdown",
   "id": "noble-paragraph",
   "metadata": {},
   "source": [
    "## Task 3: Combined model (25 pts)\n",
    "\n",
    "Now we will finally train a model on the combined data, by joining the extrapolation and the original dataset, and study the performance over the original test set, the new test set and the combined result. For this we will only use the Random Forest model. Use a seed of 20201107 for all functions that accept one.\n",
    "\n",
    "1. Create a train / test split set over the extrapolation data, leaving approximately 30% of the data for testing purposes. Combine this train test with the original train set (let's call this the combined train set). (5 pts)\n",
    "2. Train a Random Forest model over the **combined** train data. Discuss how many trees you used and why. (15 pts)\n",
    "3. Plot the variable importance and compare it versus the XGB in task 1. Now that you more data, does the importance change? (5 pts)\n",
    "3. Report the test set performance of your new model over the original test set, the test set you took over the extrapolation dataset and the combined test set. Plot the scatterplot of the both datasets as before in the same plot, differentiating the dataset by using colours. (10 pts)"
   ]
  },
  {
   "cell_type": "code",
   "execution_count": 64,
   "id": "durable-reflection",
   "metadata": {},
   "outputs": [],
   "source": [
    "# Create the new train and test set.\n",
    "energy_data2 = pd.read_csv('energy_appliances_extrapolation.csv')\n",
    "energy_train_noWoE2, energy_test_noWoE2 = train_test_split(energy_data2.iloc[:, 0:], # Data \n",
    "                                                             test_size = 0.3,           # Size of test\n",
    "                                                             random_state = 20201107)   # Seed\n",
    "\n",
    "energy_train_noWoE3 = pd.concat([energy_train_noWoE2,energy_train_noWoE])"
   ]
  },
  {
   "cell_type": "code",
   "execution_count": 87,
   "id": "conscious-mattress",
   "metadata": {},
   "outputs": [
    {
     "data": {
      "text/plain": [
       "RandomForestRegressor(n_estimators=250, random_state=20190305)"
      ]
     },
     "execution_count": 87,
     "metadata": {},
     "output_type": "execute_result"
    }
   ],
   "source": [
    "# Obtain the new random forest (tune the trees)\n",
    "energy_rf.fit(energy_train_noWoE3.iloc[:,:-1], \n",
    "               energy_train_noWoE3['Appliances'])\n"
   ]
  },
  {
   "cell_type": "markdown",
   "id": "standing-farming",
   "metadata": {},
   "source": [
    "I used the max amount of trees 250 as it will provide better results"
   ]
  },
  {
   "cell_type": "code",
   "execution_count": 90,
   "id": "lesser-closer",
   "metadata": {},
   "outputs": [
    {
     "name": "stdout",
     "output_type": "stream",
     "text": [
      "[0.23256362 0.01094707 0.03014076 0.03562594 0.03808642 0.03499622\n",
      " 0.03657935 0.03188335 0.02997547 0.03040019 0.03001392 0.0377552\n",
      " 0.03992402 0.02997361 0.02879361 0.02987146 0.03529347 0.03060506\n",
      " 0.02377523 0.03138812 0.03767062 0.03766982 0.032739   0.03100618\n",
      " 0.03232229]\n",
      "[9.98878800e-01 5.54397135e-04 1.52951339e-05 1.17658972e-05\n",
      " 6.54244482e-06 2.97866384e-05 1.20066585e-05 6.09305532e-06\n",
      " 2.37136802e-05 2.57175955e-06 2.37143022e-06 1.23231484e-04\n",
      " 9.00087557e-05 1.44001524e-05 2.35121061e-06 2.43364386e-05\n",
      " 9.26603775e-06 4.19042081e-06 2.79681736e-06 1.31567387e-05\n",
      " 4.41514956e-05 3.90716030e-05 3.70464588e-05 1.92714402e-05\n",
      " 3.33772369e-05]\n"
     ]
    },
    {
     "data": {
      "text/plain": [
       "<matplotlib.collections.PathCollection at 0x1ac8659d160>"
      ]
     },
     "execution_count": 90,
     "metadata": {},
     "output_type": "execute_result"
    },
    {
     "data": {
      "image/png": "[encoded data removed]",
      "text/plain": [
       "<Figure size 432x288 with 1 Axes>"
      ]
     },
     "metadata": {
      "needs_background": "light"
     },
     "output_type": "display_data"
    }
   ],
   "source": [
    "# Variable importance\n",
    "importances2 = energy_rf.feature_importances_\n",
    "print(importances)\n",
    "print(importances2)\n",
    "plt.scatter(importances, importances2)"
   ]
  },
  {
   "cell_type": "markdown",
   "id": "mysterious-collar",
   "metadata": {},
   "source": [
    "**Written answer: **\n",
    "\n",
    "Now that you more data, does the importance change?"
   ]
  },
  {
   "cell_type": "code",
   "execution_count": null,
   "id": "hydraulic-equality",
   "metadata": {},
   "outputs": [],
   "source": [
    "# Print MAPE over the test sets\n",
    "TestSetsError = mean_absolute_percentage_error(y_true, y_pred)"
   ]
  },
  {
   "cell_type": "code",
   "execution_count": null,
   "id": "offshore-sending",
   "metadata": {},
   "outputs": [],
   "source": [
    "# Scatterplot\n",
    "plt.scatter(x,y)"
   ]
  },
  {
   "cell_type": "markdown",
   "id": "thirty-parker",
   "metadata": {},
   "source": [
    "**Written answer:**"
   ]
  },
  {
   "cell_type": "markdown",
   "id": "decent-offset",
   "metadata": {},
   "source": [
    "What happens now? What can you say about the new model?\n"
   ]
  },
  {
   "cell_type": "code",
   "execution_count": null,
   "id": "conservative-dodge",
   "metadata": {},
   "outputs": [],
   "source": []
  }
 ],
 "metadata": {
  "kernelspec": {
   "display_name": "Python 3",
   "language": "python",
   "name": "python3"
  },
  "language_info": {
   "codemirror_mode": {
    "name": "ipython",
    "version": 3
   },
   "file_extension": ".py",
   "mimetype": "text/x-python",
   "name": "python",
   "nbconvert_exporter": "python",
   "pygments_lexer": "ipython3",
   "version": "3.8.5"
  }
 },
 "nbformat": 4,
 "nbformat_minor": 5
}
